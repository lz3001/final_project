{
 "cells": [
  {
   "cell_type": "markdown",
   "id": "3a0e4c0b",
   "metadata": {},
   "source": [
    "# Module 3: Building on the Fundamentals"
   ]
  },
  {
   "cell_type": "markdown",
   "id": "7aa14f43",
   "metadata": {},
   "source": [
    "## Housekeeping"
   ]
  },
  {
   "cell_type": "markdown",
   "id": "d0325a66-9b27-4eea-a2ee-04c46424fb0b",
   "metadata": {},
   "source": [
    "### Quiz 1\n",
    "\n",
    "First quiz is next week, September 30th, at the end of class. \n",
    "\n",
    "* You must be present in class to take the quiz with your laptop.\n",
    "* Same process as homework: download a Jupyter Notebook from Canvas/Courseworks, and upload once done.\n",
    "* You will have 30 minutes for the quiz. If you do not submit your notebook by 30 minutes, you will receive 0 credit.\n",
    "* Anything covered in Module 1, 2, and 3 will be fair game.\n",
    "* Optional practice problems and their solutions have been posted.\n",
    "\n",
    "**You must install [Proctorio](https://getproctorio.com/) (getproctorio.com) before the quiz.** It'll only take a few minutes, but best not to waste precious quiz time. Proctorio will be used to monitor web traffic for collaboration and unapproved websites & tools (e.g. ChatGPT). Any talking, collaboration, or use of unapproved websites & tools will result in an immediate zero for the quiz."
   ]
  },
  {
   "cell_type": "markdown",
   "id": "2ecdeb81-eda0-4d1c-a078-390f3a9096ca",
   "metadata": {},
   "source": [
    "### Post-Lecture Note"
   ]
  },
  {
   "cell_type": "markdown",
   "id": "5f5dc4d9-73d9-4a0a-90ed-fc48b9581361",
   "metadata": {},
   "source": [
    "Be sure to review the sections with the astricks (`*`) in the headings - these are the sections I skipped for the sake of time."
   ]
  },
  {
   "cell_type": "markdown",
   "id": "62286b38",
   "metadata": {
    "tags": [],
    "toc-hr-collapsed": true
   },
   "source": [
    "## * Module 2 Recap\n",
    "\n",
    "_Skipped over during lecture_\n"
   ]
  },
  {
   "cell_type": "markdown",
   "id": "214c72e9-c63d-4af3-af92-78737c0c6fa1",
   "metadata": {
    "tags": []
   },
   "source": [
    "### 2.5 Functions"
   ]
  },
  {
   "cell_type": "markdown",
   "id": "e6ee6f5d-f8a8-4bd3-afe7-69e9e788d281",
   "metadata": {},
   "source": [
    "_Take a look at the [Official Python Tutorial](https://docs.python.org/3.10/tutorial/), sections 4.7 and 4.8._\n",
    "\n",
    "Up until now, we've been using functions that have been defined for us. But we can define our own as well!\n",
    "\n",
    "If you have programming in another language, you might be familiar with using curly brackets when defining a function. However, Python makes use of whitespace and indentation, rather than brackets."
   ]
  },
  {
   "cell_type": "markdown",
   "id": "2e74b609",
   "metadata": {
    "tags": []
   },
   "source": [
    "#### 2.5.1 Defining Functions"
   ]
  },
  {
   "cell_type": "code",
   "execution_count": 1,
   "id": "db2063d1",
   "metadata": {},
   "outputs": [],
   "source": [
    "# Here we define a function\n",
    "def greet():\n",
    "    print(\"Hi!\")  # inside function; indented with 4 spaces\n",
    "    print(\"I am inside the function called 'greet'.\")"
   ]
  },
  {
   "cell_type": "markdown",
   "id": "63f8231d",
   "metadata": {},
   "source": [
    "_Note: Jupyter notebooks try to help you out by auto-indenting 4 spaces when defining a function._"
   ]
  },
  {
   "cell_type": "code",
   "execution_count": 2,
   "id": "f9683435",
   "metadata": {},
   "outputs": [
    {
     "name": "stdout",
     "output_type": "stream",
     "text": [
      "Hi!\n",
      "I am inside the function called 'greet'.\n"
     ]
    }
   ],
   "source": [
    "# Now, we call the function to execute it\n",
    "greet()  "
   ]
  },
  {
   "cell_type": "code",
   "execution_count": 3,
   "id": "06269608",
   "metadata": {},
   "outputs": [],
   "source": [
    "# Redefine the function to take in 1 parameter: 'name'\n",
    "def greet(name):\n",
    "    print(f\"Hi {name}!\")\n",
    "    print(\"I am inside the function called 'greet'.\")"
   ]
  },
  {
   "cell_type": "markdown",
   "id": "114dff8f",
   "metadata": {},
   "source": [
    "Now, since `greet` takes in one argument, we must call it with an argument:"
   ]
  },
  {
   "cell_type": "code",
   "execution_count": 4,
   "id": "eb9ea382",
   "metadata": {},
   "outputs": [
    {
     "name": "stdout",
     "output_type": "stream",
     "text": [
      "Hi Lynn!\n",
      "I am inside the function called 'greet'.\n"
     ]
    }
   ],
   "source": [
    "greet(\"Lynn\")"
   ]
  },
  {
   "cell_type": "markdown",
   "id": "7dfe0894",
   "metadata": {},
   "source": [
    "When calling the function, we can also supply with the parameter name:"
   ]
  },
  {
   "cell_type": "code",
   "execution_count": 5,
   "id": "336ae7d1",
   "metadata": {},
   "outputs": [
    {
     "name": "stdout",
     "output_type": "stream",
     "text": [
      "Hi Lynn!\n",
      "I am inside the function called 'greet'.\n"
     ]
    }
   ],
   "source": [
    "# same thing:\n",
    "my_name = \"Lynn\"\n",
    "greet(name=my_name)"
   ]
  },
  {
   "cell_type": "markdown",
   "id": "68c6505a",
   "metadata": {},
   "source": [
    "Note that the `greet(\"Lynn\")`, `greet(name=\"Lynn\")`, and `greet(name=my_name)` is all functionally the same. However, the second two approaches are considered more _readable_. For instance, maybe you defined the `greet` function 100 lines ago, and now you're calling it with your name. If I'm reviewing your code (or you are reviewing your code days/weeks/months from now), I may not remember how the `greet` function was defined, so I may have no idea what argument its expecting. By providing the name of the argument, it helps me out by providing that context."
   ]
  },
  {
   "cell_type": "markdown",
   "id": "2764d488",
   "metadata": {},
   "source": [
    "Functions can contain any number of arguments. Here's a function that takes in two numbers. It also **returns** a value using the `return` statement:"
   ]
  },
  {
   "cell_type": "code",
   "execution_count": 1,
   "id": "dc28755b",
   "metadata": {},
   "outputs": [],
   "source": [
    "# define a function that takes 2 arguments, and returns a value\n",
    "def add(x, y):\n",
    "    return x + y"
   ]
  },
  {
   "cell_type": "code",
   "execution_count": 2,
   "id": "a5412d5c",
   "metadata": {},
   "outputs": [
    {
     "data": {
      "text/plain": [
       "5"
      ]
     },
     "execution_count": 2,
     "metadata": {},
     "output_type": "execute_result"
    }
   ],
   "source": [
    "add(2, 3)"
   ]
  },
  {
   "cell_type": "markdown",
   "id": "f4e31204",
   "metadata": {},
   "source": [
    "#### * 2.5.2 [New] Arguments versus Parameters\n",
    "\n",
    "Sometimes, you'll see arguments and parameters interchangeably, but there is technically a very small difference between the word \"parameter\" and the word \"argument\" in programming: Function parameters are the names listed in the function's definition (for the `add` function, it's `x` and `y`). Function arguments are the real values passed to the function (`2` and `3` for the `add` function). Parameters are initialized to the values of the arguments supplied.\n",
    "\n",
    "Python will refer to parameters as arguments, which can be even more confusing.\n",
    "\n",
    "The major takeaway though is this: if you have a function that has 1 parameter (like `greet` has the `name` parameter), you _must_ call that function with a value for that parameter (`\"Lynn\"`). Same with functions containing 2 or more parameters - the number of parameters that are defined in the function should equal to the number of arguments that you call with the function."
   ]
  },
  {
   "cell_type": "markdown",
   "id": "db0b6f62",
   "metadata": {},
   "source": [
    "## 3.0 Overview\n",
    "_Goal: To get comfortable handling exceptions and files in Python, as well as explore self-referential functions (a.k.a. recursion)._\n",
    "    \n",
    "Companion reading\n",
    "[Official Python Tutorial](https://docs.python.org/3/tutorial/index.html), sections 7.2, 8\n",
    "\n",
    "Topics we'll cover:\n",
    "\n",
    "* Scope - the accessibility of Python objects\n",
    "* Comprehensions - an approach for short & concise for-loops\n",
    "* Types - quick intro on casting one type in Python to another\n",
    "* Exceptions - handling errors in Python\n",
    "* File I/O - handling file input and output (I/O) in Python\n",
    "* Recursion - functions that call themselves\n"
   ]
  },
  {
   "cell_type": "markdown",
   "id": "3ac3ac79",
   "metadata": {},
   "source": [
    "## 3.1 Scope\n",
    "\n",
    "_Building on Python's functions_\n",
    "\n",
    "In Python, there is this thing called \"scopes\". The scope of an object in Python refers to its accessibility - can you access an object from a certain part of your code.\n",
    "\n",
    "To access a particular object in our code, the **scope** must be defined, otherwise it cannot be accessed from anywhere in your program or Notebook. The particular coding region where variables are visible is known as scope.\n",
    "\n",
    "There are 4 types of \"scope\" in Python:\n",
    "\n",
    "* built-in\n",
    "* global\n",
    "* local\n",
    "* enclosed"
   ]
  },
  {
   "cell_type": "markdown",
   "id": "a989a0dc-b979-4339-b37e-f2fbe2e504e3",
   "metadata": {},
   "source": [
    "### 3.1.1 Built-in Scope"
   ]
  },
  {
   "cell_type": "markdown",
   "id": "f3d5b69a-94cb-4a1c-bbe3-8adb46d61b3d",
   "metadata": {},
   "source": [
    "For the **built-in scope**, you should already be familiar with. The functions like `print`, `type`, `help`, `enumerate`, `range`, etc are all built-in scope."
   ]
  },
  {
   "cell_type": "code",
   "execution_count": 1,
   "id": "10a4e107-c3de-46c4-ac09-ce3db75d13b1",
   "metadata": {},
   "outputs": [
    {
     "name": "stdout",
     "output_type": "stream",
     "text": [
      "Being able to call 'print' anywhere, without needing to do anything, is 'built-in scope'\n"
     ]
    }
   ],
   "source": [
    "# example of built-in scope\n",
    "\n",
    "print(\"Being able to call 'print' anywhere, without needing to do anything, is 'built-in scope'\")\n"
   ]
  },
  {
   "cell_type": "markdown",
   "id": "e83b5678-3517-4ab2-9328-3393b7628fa6",
   "metadata": {},
   "source": [
    "### 3.1.2 Global Scope"
   ]
  },
  {
   "cell_type": "markdown",
   "id": "8df9970e",
   "metadata": {},
   "source": [
    "An example of **global scope**, the `a_list` below is considered in the global scope since it's defined outside of any function. The function itself, `print_a_list`, is also considered \"in the global scope.\""
   ]
  },
  {
   "cell_type": "code",
   "execution_count": 19,
   "id": "5ac0bb6f",
   "metadata": {},
   "outputs": [
    {
     "name": "stdout",
     "output_type": "stream",
     "text": [
      "[1, 2, 3]\n"
     ]
    }
   ],
   "source": [
    "# example of global scope\n",
    "a_list = [1, 2, 3]\n",
    "\n",
    "def print_a_list():\n",
    "    print(a_list)\n",
    "\n",
    "print_a_list()"
   ]
  },
  {
   "cell_type": "markdown",
   "id": "26e2ed82-5eb7-496b-9df7-4f7c231abcb6",
   "metadata": {},
   "source": [
    "### 3.1.3 Local Scope"
   ]
  },
  {
   "cell_type": "markdown",
   "id": "8a59833c",
   "metadata": {},
   "source": [
    "When we define our own functions, we start to introduce scope. Variables defined _inside_ a function is considered to be in the **local scope** of the function its defined in:"
   ]
  },
  {
   "cell_type": "code",
   "execution_count": 21,
   "id": "781adc0a",
   "metadata": {},
   "outputs": [
    {
     "name": "stdout",
     "output_type": "stream",
     "text": [
      "result locally: a very important result\n",
      "returned: a very important result\n",
      "result globally: [2, 4, 6]\n"
     ]
    }
   ],
   "source": [
    "# example of local scope\n",
    "\n",
    "result = [2, 4, 6]   # a global scoped variable\n",
    "\n",
    "def calculate(): \n",
    "    result = \"a very important result\"   # a local scoped variable\n",
    "    print(f\"result locally: {result}\")\n",
    "    return result\n",
    "\n",
    "returned = calculate()\n",
    "print(f\"returned: {returned}\")\n",
    "print(f\"result globally: {result}\")"
   ]
  },
  {
   "cell_type": "markdown",
   "id": "a0fb3ffb-976c-4adb-8cc7-0750b2bb685a",
   "metadata": {},
   "source": [
    "The `result = \"a very important result\"` is _local to the `calculate` function_."
   ]
  },
  {
   "cell_type": "code",
   "execution_count": 5,
   "id": "91a3a1dc",
   "metadata": {},
   "outputs": [
    {
     "name": "stdout",
     "output_type": "stream",
     "text": [
      "result locally: a very important result\n",
      "returned: a very important result\n",
      "result globally: [2, 4, 6]\n"
     ]
    }
   ],
   "source": [
    "# example of local scope but with a parameter\n",
    "\n",
    "result = [2, 4, 6]   # a global scoped variable\n",
    "\n",
    "def calculate(result): # 'result' param is a local scoped variable  \n",
    "    print(f\"result locally: {result}\")\n",
    "    return result\n",
    "\n",
    "returned = calculate(\"a very important result\")\n",
    "print(f\"returned: {returned}\")\n",
    "print(f\"result globally: {result}\")"
   ]
  },
  {
   "cell_type": "markdown",
   "id": "c3b1209b-ea01-4d0b-8b68-f62e66c5e953",
   "metadata": {},
   "source": [
    "### 3.1.4 Enclosed Scope"
   ]
  },
  {
   "cell_type": "markdown",
   "id": "297c1850",
   "metadata": {},
   "source": [
    "We're allowed to nest functions, too. So we can define a function within a function. Having nested functions start to define **enclosed scope**:"
   ]
  },
  {
   "cell_type": "code",
   "execution_count": 22,
   "id": "05af9f10",
   "metadata": {},
   "outputs": [
    {
     "name": "stdout",
     "output_type": "stream",
     "text": [
      "inner: 2\n",
      "outer: 1\n"
     ]
    }
   ],
   "source": [
    "# example of enclosed scope\n",
    "\n",
    "def outer_func():\n",
    "    a = 1\n",
    "    \n",
    "    def inner_func(): # define a function w/i a function\n",
    "        a = 2\n",
    "        print(f\"inner: {a}\")\n",
    "        \n",
    "    inner_func()  # call the inner func within outer func\n",
    "    print(f\"outer: {a}\")\n",
    "\n",
    "outer_func()"
   ]
  },
  {
   "cell_type": "code",
   "execution_count": 23,
   "id": "87435232",
   "metadata": {},
   "outputs": [
    {
     "ename": "NameError",
     "evalue": "name 'inner_func' is not defined",
     "output_type": "error",
     "traceback": [
      "\u001b[0;31m---------------------------------------------------------------------------\u001b[0m",
      "\u001b[0;31mNameError\u001b[0m                                 Traceback (most recent call last)",
      "Cell \u001b[0;32mIn[23], line 1\u001b[0m\n\u001b[0;32m----> 1\u001b[0m \u001b[43minner_func\u001b[49m()\n",
      "\u001b[0;31mNameError\u001b[0m: name 'inner_func' is not defined"
     ]
    }
   ],
   "source": [
    "inner_func()"
   ]
  },
  {
   "cell_type": "markdown",
   "id": "f5d95805",
   "metadata": {},
   "source": [
    "Notice the value of `a` changes depending on whether we're inside the `inner_func` or `outer_func`."
   ]
  },
  {
   "cell_type": "markdown",
   "id": "dcd8842f",
   "metadata": {},
   "source": [
    "## 3.2 Comprehensions\n",
    "\n",
    "_Building on looping in Python_\n",
    "\n",
    "_Take a look at the [Official Python Tutorial](https://docs.python.org/3.10/tutorial/), sections 5.1.3 and 5.1.4._\n",
    "\n",
    "Let's revisit our `for`-loops and take a look at a different approach for creating new iterables."
   ]
  },
  {
   "cell_type": "markdown",
   "id": "c0a8a18e-57b0-407f-9d6f-68bbcf114a4a",
   "metadata": {},
   "source": [
    "### 3.2.1 List Comprehensions"
   ]
  },
  {
   "cell_type": "markdown",
   "id": "f7d81d53-85b0-4623-b114-0f494da8c465",
   "metadata": {},
   "source": [
    "Often times, we can take a simple `for`-loops that creates new lists, and replace them with one line of code using what's called a **list comprehension**.\n",
    "\n",
    "Let's look at a basic `for`-loop:"
   ]
  },
  {
   "cell_type": "code",
   "execution_count": 2,
   "id": "9c1356c2",
   "metadata": {},
   "outputs": [],
   "source": [
    "squares = []\n",
    "for x in range(10):\n",
    "    squares.append(x ** 2)"
   ]
  },
  {
   "cell_type": "code",
   "execution_count": 3,
   "id": "4d073219",
   "metadata": {},
   "outputs": [
    {
     "data": {
      "text/plain": [
       "[0, 1, 4, 9, 16, 25, 36, 49, 64, 81]"
      ]
     },
     "execution_count": 3,
     "metadata": {},
     "output_type": "execute_result"
    }
   ],
   "source": [
    "squares"
   ]
  },
  {
   "cell_type": "markdown",
   "id": "039d776b-c63a-426c-8b51-92bf7344f2b9",
   "metadata": {},
   "source": [
    "It's a pretty simple `for`-loop. The purpose of this `for`-loop is to **create a new list** (`squares`).\n",
    "\n",
    "Because we're creating a new list, and because the logic itself is simple, we can make it a \"one-liner\", meaning we can write this `for`-loop in one line of code. "
   ]
  },
  {
   "cell_type": "code",
   "execution_count": 4,
   "id": "f98dae4b",
   "metadata": {},
   "outputs": [],
   "source": [
    "squares = [x ** 2 for x in range(10)]"
   ]
  },
  {
   "cell_type": "code",
   "execution_count": 5,
   "id": "a32bacdb",
   "metadata": {},
   "outputs": [
    {
     "data": {
      "text/plain": [
       "[0, 1, 4, 9, 16, 25, 36, 49, 64, 81]"
      ]
     },
     "execution_count": 5,
     "metadata": {},
     "output_type": "execute_result"
    }
   ],
   "source": [
    "squares"
   ]
  },
  {
   "cell_type": "markdown",
   "id": "f1736883-76e7-4994-b3b8-d4b27839a61f",
   "metadata": {},
   "source": [
    "We've just rewritten our `for`-loop as a **list comprehension**!\n",
    "\n",
    "List comprehensions are a more concise way to **create** lists. The main reason we use list comprehensions to create lists (when we can) is because they are **easier to read**."
   ]
  },
  {
   "cell_type": "markdown",
   "id": "e80897ca",
   "metadata": {},
   "source": [
    "Another example: let's say we're creating a list, `combinations`, and to do so, we have 2 `for`-loops:"
   ]
  },
  {
   "cell_type": "code",
   "execution_count": 6,
   "id": "cceaeefd",
   "metadata": {},
   "outputs": [],
   "source": [
    "combinations = []\n",
    "for x in [1, 2, 3]:\n",
    "    for y in [3, 1, 4]:\n",
    "        if x != y:\n",
    "            combinations.append((x, y))"
   ]
  },
  {
   "cell_type": "code",
   "execution_count": 7,
   "id": "6cdb417f",
   "metadata": {},
   "outputs": [
    {
     "data": {
      "text/plain": [
       "[(1, 3), (1, 4), (2, 3), (2, 1), (2, 4), (3, 1), (3, 4)]"
      ]
     },
     "execution_count": 7,
     "metadata": {},
     "output_type": "execute_result"
    }
   ],
   "source": [
    "combinations"
   ]
  },
  {
   "cell_type": "markdown",
   "id": "b0a75b2b-83c3-475b-8422-56d1540695be",
   "metadata": {},
   "source": [
    "Even though we have a \"nested\" `for`-loop (one loop is nested below another), we can create `combinations` using a list comprehension. Note that the order of `for` & `if` statements are the same as the original:"
   ]
  },
  {
   "cell_type": "code",
   "execution_count": 8,
   "id": "f754db29",
   "metadata": {},
   "outputs": [],
   "source": [
    "combinations = [(x, y) for x in [1, 2, 3] for y in [3, 1, 4] if x != y]"
   ]
  },
  {
   "cell_type": "code",
   "execution_count": 9,
   "id": "5e500d65",
   "metadata": {},
   "outputs": [
    {
     "data": {
      "text/plain": [
       "[(1, 3), (1, 4), (2, 3), (2, 1), (2, 4), (3, 1), (3, 4)]"
      ]
     },
     "execution_count": 9,
     "metadata": {},
     "output_type": "execute_result"
    }
   ],
   "source": [
    "combinations"
   ]
  },
  {
   "cell_type": "markdown",
   "id": "9f00875c",
   "metadata": {},
   "source": [
    "Let's look at another example of nesting:"
   ]
  },
  {
   "cell_type": "code",
   "execution_count": 3,
   "id": "9c072433",
   "metadata": {},
   "outputs": [],
   "source": [
    "# Start off with a list of lists\n",
    "matrix = [\n",
    "    [1, 2, 3, 4],\n",
    "    [5, 6, 7, 8],\n",
    "    [9, 10, 11, 12],\n",
    "]"
   ]
  },
  {
   "cell_type": "markdown",
   "id": "8dbf10f1-8949-4cf1-97f2-403388aa3889",
   "metadata": {},
   "source": [
    "Using a list comprehension, we can generate a new matrix that transposes original matrix"
   ]
  },
  {
   "cell_type": "code",
   "execution_count": 6,
   "id": "5d9da1c9",
   "metadata": {},
   "outputs": [],
   "source": [
    "transposed_matrix = [[row[i] for row in matrix] for i in range(4)]"
   ]
  },
  {
   "cell_type": "code",
   "execution_count": 7,
   "id": "3242c2bb-866e-485e-8082-d4a56eb80c77",
   "metadata": {},
   "outputs": [
    {
     "data": {
      "text/plain": [
       "[[1, 5, 9], [2, 6, 10], [3, 7, 11], [4, 8, 12]]"
      ]
     },
     "execution_count": 7,
     "metadata": {},
     "output_type": "execute_result"
    }
   ],
   "source": [
    "transposed_matrix"
   ]
  },
  {
   "cell_type": "markdown",
   "id": "f8538b3f-b56b-4312-b21a-d43d97da0b08",
   "metadata": {},
   "source": [
    "If we were to write the above using a nested `for`-loop:"
   ]
  },
  {
   "cell_type": "code",
   "execution_count": 11,
   "id": "1d3e8b83-1846-41be-a033-61c540087f4b",
   "metadata": {},
   "outputs": [],
   "source": [
    "transposed_matrix = []\n",
    "for i in range(4):\n",
    "    transposed_row = []\n",
    "    for row in matrix:\n",
    "        transposed_row.append(row[i])\n",
    "    transposed_matrix.append(transposed_row)"
   ]
  },
  {
   "cell_type": "code",
   "execution_count": 12,
   "id": "3213472c-31ae-49c0-9f8e-339cd3106af6",
   "metadata": {},
   "outputs": [
    {
     "data": {
      "text/plain": [
       "[[1, 5, 9], [2, 6, 10], [3, 7, 11], [4, 8, 12]]"
      ]
     },
     "execution_count": 12,
     "metadata": {},
     "output_type": "execute_result"
    }
   ],
   "source": [
    "transposed_matrix"
   ]
  },
  {
   "cell_type": "markdown",
   "id": "fabd6f39-561f-4eaf-8b1d-273e5ab1bde3",
   "metadata": {},
   "source": [
    "#### * Aside: using built-ins to help\n",
    "\n",
    "We can write this even more concisely:"
   ]
  },
  {
   "cell_type": "code",
   "execution_count": 17,
   "id": "6a091c1c",
   "metadata": {},
   "outputs": [
    {
     "data": {
      "text/plain": [
       "[(1, 5, 9), (2, 6, 10), (3, 7, 11), (4, 8, 12)]"
      ]
     },
     "execution_count": 17,
     "metadata": {},
     "output_type": "execute_result"
    }
   ],
   "source": [
    "transposed_matrix = list(zip(*matrix))\n",
    "transposed_matrix"
   ]
  },
  {
   "cell_type": "markdown",
   "id": "6ae80e55",
   "metadata": {},
   "source": [
    "The astericks should be familiar from **unpacking**. For the above example, read more on [unpacking argument lists](https://docs.python.org/3/tutorial/controlflow.html#tut-unpacking-arguments)."
   ]
  },
  {
   "cell_type": "markdown",
   "id": "1b51cdb0-7e63-4dd2-a492-f14ba468da6a",
   "metadata": {},
   "source": [
    "### 3.2.2 Other Comprehensions Types\n",
    "\n",
    "We can also use **dictionary comprehensions** to create dynamic dictionaries:"
   ]
  },
  {
   "cell_type": "code",
   "execution_count": 18,
   "id": "fd67e4ae-00e4-4a81-b8bd-b5a7df8c848c",
   "metadata": {},
   "outputs": [],
   "source": [
    "dict1 = {'a': 1, 'b': 2, 'c': 3, 'd': 4, 'e': 5}"
   ]
  },
  {
   "cell_type": "code",
   "execution_count": 19,
   "id": "43c6cfae-3cf3-4acd-950a-4710fbdce983",
   "metadata": {},
   "outputs": [
    {
     "data": {
      "text/plain": [
       "{'a': 2, 'b': 4, 'c': 6, 'd': 8, 'e': 10}"
      ]
     },
     "execution_count": 19,
     "metadata": {},
     "output_type": "execute_result"
    }
   ],
   "source": [
    "# not using a comprehension:\n",
    "\n",
    "double_dict1 = {}\n",
    "for k, v in dict1.items():\n",
    "    double_dict1[k] = v * 2\n",
    "double_dict1"
   ]
  },
  {
   "cell_type": "code",
   "execution_count": 20,
   "id": "d15600cb",
   "metadata": {},
   "outputs": [
    {
     "data": {
      "text/plain": [
       "{'a': 2, 'b': 4, 'c': 6, 'd': 8, 'e': 10}"
      ]
     },
     "execution_count": 20,
     "metadata": {},
     "output_type": "execute_result"
    }
   ],
   "source": [
    "# using a comprehension\n",
    "double_dict1 = {k: v * 2 for (k, v) in dict1.items()}\n",
    "double_dict1"
   ]
  },
  {
   "cell_type": "markdown",
   "id": "cf44390f",
   "metadata": {},
   "source": [
    "We also have **set comprehensions** to create dynamic sets:"
   ]
  },
  {
   "cell_type": "code",
   "execution_count": 21,
   "id": "ee7c599b-6fa0-4f24-8703-7d54ef3615d7",
   "metadata": {},
   "outputs": [],
   "source": [
    "word = \"abracadabra\""
   ]
  },
  {
   "cell_type": "code",
   "execution_count": 23,
   "id": "474617cc-f0ad-455c-872e-ebaea1899d7b",
   "metadata": {},
   "outputs": [
    {
     "data": {
      "text/plain": [
       "{'d', 'r'}"
      ]
     },
     "execution_count": 23,
     "metadata": {},
     "output_type": "execute_result"
    }
   ],
   "source": [
    "# not using a set comprehension\n",
    "my_set = set()\n",
    "for x in word:\n",
    "    if x not in \"abc\":\n",
    "        my_set.add(x)\n",
    "my_set"
   ]
  },
  {
   "cell_type": "code",
   "execution_count": 24,
   "id": "421c69d1",
   "metadata": {},
   "outputs": [
    {
     "data": {
      "text/plain": [
       "{'d', 'r'}"
      ]
     },
     "execution_count": 24,
     "metadata": {},
     "output_type": "execute_result"
    }
   ],
   "source": [
    "# using a set comprehension\n",
    "my_set = {x for x in 'abracadabra' if x not in 'abc'}\n",
    "my_set"
   ]
  },
  {
   "cell_type": "markdown",
   "id": "4776d41b",
   "metadata": {},
   "source": [
    "### * 3.3.3 No Tuple Comprehensions aka Intro to Generators\n",
    "\n",
    "This might seem like an oddity in Python: **there are no tuple comprehensions in Python**. \n",
    "\n",
    "You _can_ create a tuple using a list comprehension:"
   ]
  },
  {
   "cell_type": "code",
   "execution_count": 40,
   "id": "bc6d703c",
   "metadata": {},
   "outputs": [
    {
     "data": {
      "text/plain": [
       "('r', 'd', 'r')"
      ]
     },
     "execution_count": 40,
     "metadata": {},
     "output_type": "execute_result"
    }
   ],
   "source": [
    "a = tuple([x for x in 'abracadabra' if x not in 'abc'])\n",
    "a"
   ]
  },
  {
   "cell_type": "markdown",
   "id": "2ca16f95",
   "metadata": {},
   "source": [
    "But, if you switch to just using parens, you create a different object entirely:"
   ]
  },
  {
   "cell_type": "code",
   "execution_count": 43,
   "id": "fc14017e",
   "metadata": {},
   "outputs": [],
   "source": [
    "a = (x for x in 'abracadabra' if x not in 'abc')"
   ]
  },
  {
   "cell_type": "code",
   "execution_count": 44,
   "id": "7fe685e3",
   "metadata": {},
   "outputs": [
    {
     "data": {
      "text/plain": [
       "<generator object <genexpr> at 0x10795fd80>"
      ]
     },
     "execution_count": 44,
     "metadata": {},
     "output_type": "execute_result"
    }
   ],
   "source": [
    "a"
   ]
  },
  {
   "cell_type": "markdown",
   "id": "51bebce9",
   "metadata": {},
   "source": [
    "A generator is similar to an iterator, i.e. it can be used in a `for`-loop. But unlike iterators, you can only iterate over a generator _once_. \n",
    "\n",
    "For example, we can have a list, and iterate over it as many times as we want:"
   ]
  },
  {
   "cell_type": "code",
   "execution_count": 45,
   "id": "67def2bc",
   "metadata": {},
   "outputs": [],
   "source": [
    "i"
   ]
  },
  {
   "cell_type": "code",
   "execution_count": 47,
   "id": "f60356a1",
   "metadata": {},
   "outputs": [
    {
     "name": "stdout",
     "output_type": "stream",
     "text": [
      "r\n",
      "d\n",
      "r\n"
     ]
    }
   ],
   "source": [
    "# iterate over my_list once:\n",
    "for char in my_list:\n",
    "    if char not in 'abc':\n",
    "        print(char)"
   ]
  },
  {
   "cell_type": "code",
   "execution_count": 48,
   "id": "4845ce09",
   "metadata": {},
   "outputs": [
    {
     "name": "stdout",
     "output_type": "stream",
     "text": [
      "r\n",
      "d\n",
      "r\n"
     ]
    }
   ],
   "source": [
    "# let's do it again:\n",
    "for char in my_list:\n",
    "    if char not in 'abc':\n",
    "        print(char)"
   ]
  },
  {
   "cell_type": "markdown",
   "id": "72bb412c",
   "metadata": {},
   "source": [
    "But if we have a generator, we can only iterate over it once:"
   ]
  },
  {
   "cell_type": "code",
   "execution_count": 49,
   "id": "77b0233f",
   "metadata": {},
   "outputs": [],
   "source": [
    "my_generator = (x for x in 'abracadabra' if x not in 'abc')"
   ]
  },
  {
   "cell_type": "code",
   "execution_count": 50,
   "id": "e51f7b99",
   "metadata": {},
   "outputs": [
    {
     "name": "stdout",
     "output_type": "stream",
     "text": [
      "r\n",
      "d\n",
      "r\n"
     ]
    }
   ],
   "source": [
    "# iterate over my_generator once:\n",
    "for char in my_generator:\n",
    "    print(char)"
   ]
  },
  {
   "cell_type": "code",
   "execution_count": 51,
   "id": "bb3bc038",
   "metadata": {},
   "outputs": [],
   "source": [
    "# let's try again:\n",
    "for char in my_generator:\n",
    "    print(char)"
   ]
  },
  {
   "cell_type": "markdown",
   "id": "fbfd63d6",
   "metadata": {},
   "source": [
    "You see that nothing happens! Even though `my_generator` still exists:"
   ]
  },
  {
   "cell_type": "code",
   "execution_count": 52,
   "id": "df9f6845",
   "metadata": {},
   "outputs": [
    {
     "data": {
      "text/plain": [
       "<generator object <genexpr> at 0x107a98200>"
      ]
     },
     "execution_count": 52,
     "metadata": {},
     "output_type": "execute_result"
    }
   ],
   "source": [
    "my_generator"
   ]
  },
  {
   "cell_type": "markdown",
   "id": "7111af45",
   "metadata": {},
   "source": [
    "We have **exhausted** the generator when we iterated over it the one time."
   ]
  },
  {
   "cell_type": "markdown",
   "id": "2e3c444f",
   "metadata": {},
   "source": [
    "### Take-away\n",
    "\n",
    "Not every `for`-loop can be condensed in to a comprehension; but every comprehension can be expanded out into a `for`-loop."
   ]
  },
  {
   "cell_type": "markdown",
   "id": "b45d12b9",
   "metadata": {},
   "source": [
    "## 3.3 Moving Between Types\n",
    "\n",
    "In the first two modules, we learned of a bunch of types in Python. We can also _cast_ one type to another for certain types:"
   ]
  },
  {
   "cell_type": "code",
   "execution_count": 18,
   "id": "f9c7346c",
   "metadata": {},
   "outputs": [
    {
     "data": {
      "text/plain": [
       "50"
      ]
     },
     "execution_count": 18,
     "metadata": {},
     "output_type": "execute_result"
    }
   ],
   "source": [
    "# create an int out of a str\n",
    "int(\"50\")"
   ]
  },
  {
   "cell_type": "code",
   "execution_count": 19,
   "id": "31d53457",
   "metadata": {},
   "outputs": [
    {
     "data": {
      "text/plain": [
       "'50'"
      ]
     },
     "execution_count": 19,
     "metadata": {},
     "output_type": "execute_result"
    }
   ],
   "source": [
    "# represent an int as a str\n",
    "str(50)"
   ]
  },
  {
   "cell_type": "code",
   "execution_count": 20,
   "id": "cbb53b80",
   "metadata": {},
   "outputs": [
    {
     "data": {
      "text/plain": [
       "6.0"
      ]
     },
     "execution_count": 20,
     "metadata": {},
     "output_type": "execute_result"
    }
   ],
   "source": [
    "# int -> float\n",
    "float(6)"
   ]
  },
  {
   "cell_type": "code",
   "execution_count": 21,
   "id": "7f8439ff",
   "metadata": {},
   "outputs": [
    {
     "data": {
      "text/plain": [
       "6"
      ]
     },
     "execution_count": 21,
     "metadata": {},
     "output_type": "execute_result"
    }
   ],
   "source": [
    "# float -> int (similar to flooring)\n",
    "int(6.8)"
   ]
  },
  {
   "cell_type": "code",
   "execution_count": 53,
   "id": "fdd7fbce",
   "metadata": {},
   "outputs": [
    {
     "data": {
      "text/plain": [
       "'The result is 50'"
      ]
     },
     "execution_count": 53,
     "metadata": {},
     "output_type": "execute_result"
    }
   ],
   "source": [
    "# result starts as an integer:\n",
    "result = 50\n",
    "\n",
    "# when we use it in an f-string, it gets used as a string\n",
    "f\"The result is {result}\""
   ]
  },
  {
   "cell_type": "code",
   "execution_count": 54,
   "id": "4b584cf8",
   "metadata": {},
   "outputs": [
    {
     "data": {
      "text/plain": [
       "(1, 2, 3)"
      ]
     },
     "execution_count": 54,
     "metadata": {},
     "output_type": "execute_result"
    }
   ],
   "source": [
    "# create a tuple from a list, but often don't need to, only when\n",
    "# you need immutability\n",
    "result = [1, 2, 3]\n",
    "tuple(result)"
   ]
  },
  {
   "cell_type": "code",
   "execution_count": 55,
   "id": "27079e21",
   "metadata": {},
   "outputs": [
    {
     "data": {
      "text/plain": [
       "{1, 2, 3}"
      ]
     },
     "execution_count": 55,
     "metadata": {},
     "output_type": "execute_result"
    }
   ],
   "source": [
    "# list -> set (aka \"remove duplicates from a list\")\n",
    "result = [1, 1, 2, 2, 3, 3]\n",
    "set(result)"
   ]
  },
  {
   "cell_type": "code",
   "execution_count": 56,
   "id": "fdfcea57",
   "metadata": {},
   "outputs": [
    {
     "data": {
      "text/plain": [
       "[1, 2, 3, 100, 4]"
      ]
     },
     "execution_count": 56,
     "metadata": {},
     "output_type": "execute_result"
    }
   ],
   "source": [
    "# set -> list, but remember order is arbitrary\n",
    "list({2, 1, 100, 3, 4})"
   ]
  },
  {
   "cell_type": "code",
   "execution_count": 57,
   "id": "cc1162d9",
   "metadata": {},
   "outputs": [
    {
     "data": {
      "text/plain": [
       "{'Hello': 'World', 'Foo': 'Bar', 'Baz': 'Quuz'}"
      ]
     },
     "execution_count": 57,
     "metadata": {},
     "output_type": "execute_result"
    }
   ],
   "source": [
    "# a list of tuple pairs -> dict\n",
    "result = [\n",
    "    (\"Hello\", \"World\"),\n",
    "    (\"Foo\", \"Bar\"),\n",
    "    (\"Baz\", \"Quuz\"),\n",
    "]\n",
    "dict(result)"
   ]
  },
  {
   "cell_type": "code",
   "execution_count": 58,
   "id": "28e98759",
   "metadata": {},
   "outputs": [
    {
     "data": {
      "text/plain": [
       "dict_items([('Hello', 'World'), ('Foo', 'Bar'), ('Baz', 'Quuz')])"
      ]
     },
     "execution_count": 58,
     "metadata": {},
     "output_type": "execute_result"
    }
   ],
   "source": [
    "# dict -> list of tuple-pairs\n",
    "{'Hello': 'World', 'Foo': 'Bar', 'Baz': 'Quuz'}.items()"
   ]
  },
  {
   "cell_type": "code",
   "execution_count": 59,
   "id": "72d3d311",
   "metadata": {},
   "outputs": [
    {
     "ename": "ValueError",
     "evalue": "invalid literal for int() with base 10: '2.3'",
     "output_type": "error",
     "traceback": [
      "\u001b[0;31m---------------------------------------------------------------------------\u001b[0m",
      "\u001b[0;31mValueError\u001b[0m                                Traceback (most recent call last)",
      "Input \u001b[0;32mIn [59]\u001b[0m, in \u001b[0;36m<module>\u001b[0;34m\u001b[0m\n\u001b[1;32m      1\u001b[0m \u001b[38;5;66;03m# However, can't cast a float string to an int\u001b[39;00m\n\u001b[0;32m----> 2\u001b[0m \u001b[38;5;28;43mint\u001b[39;49m\u001b[43m(\u001b[49m\u001b[38;5;124;43m\"\u001b[39;49m\u001b[38;5;124;43m2.3\u001b[39;49m\u001b[38;5;124;43m\"\u001b[39;49m\u001b[43m)\u001b[49m\n",
      "\u001b[0;31mValueError\u001b[0m: invalid literal for int() with base 10: '2.3'"
     ]
    }
   ],
   "source": [
    "# However, can't cast a float string to an int\n",
    "int(\"2.3\")"
   ]
  },
  {
   "cell_type": "code",
   "execution_count": 60,
   "id": "239388ab",
   "metadata": {},
   "outputs": [
    {
     "ename": "TypeError",
     "evalue": "int() argument must be a string, a bytes-like object or a real number, not 'complex'",
     "output_type": "error",
     "traceback": [
      "\u001b[0;31m---------------------------------------------------------------------------\u001b[0m",
      "\u001b[0;31mTypeError\u001b[0m                                 Traceback (most recent call last)",
      "Input \u001b[0;32mIn [60]\u001b[0m, in \u001b[0;36m<module>\u001b[0;34m\u001b[0m\n\u001b[1;32m      1\u001b[0m \u001b[38;5;66;03m# Can't cast a complex number to an int:\u001b[39;00m\n\u001b[0;32m----> 2\u001b[0m \u001b[38;5;28;43mint\u001b[39;49m\u001b[43m(\u001b[49m\u001b[38;5;241;43m4\u001b[39;49m\u001b[43m \u001b[49m\u001b[38;5;241;43m+\u001b[39;49m\u001b[43m \u001b[49m\u001b[38;5;241;43m1\u001b[39;49m\u001b[43mj\u001b[49m\u001b[43m)\u001b[49m\n",
      "\u001b[0;31mTypeError\u001b[0m: int() argument must be a string, a bytes-like object or a real number, not 'complex'"
     ]
    }
   ],
   "source": [
    "# Can't cast a complex number to an int:\n",
    "int(4 + 1j)"
   ]
  },
  {
   "cell_type": "markdown",
   "id": "912d37e7",
   "metadata": {},
   "source": [
    "## 3.4 Exceptions"
   ]
  },
  {
   "cell_type": "markdown",
   "id": "efb6ce38",
   "metadata": {},
   "source": [
    "We've seen that when we do something wrong with the Python language, it gives us an error. There are two basic types of errors in Python: syntax errors and exceptions."
   ]
  },
  {
   "cell_type": "markdown",
   "id": "c16f3de7",
   "metadata": {},
   "source": [
    "### 3.4.1 Syntax Errors\n",
    "Syntax errors are quite common when you're starting out. These errors prevent Python from being executed."
   ]
  },
  {
   "cell_type": "markdown",
   "id": "2542fc9a-fe25-454f-8e08-64ec79ad86a2",
   "metadata": {},
   "source": [
    "Example: you can't assign something to a string (aka a \"literal\"):"
   ]
  },
  {
   "cell_type": "code",
   "execution_count": 25,
   "id": "a98fe166",
   "metadata": {},
   "outputs": [
    {
     "ename": "SyntaxError",
     "evalue": "cannot assign to literal here. Maybe you meant '==' instead of '='? (1919524745.py, line 1)",
     "output_type": "error",
     "traceback": [
      "\u001b[0;36m  Cell \u001b[0;32mIn[25], line 1\u001b[0;36m\u001b[0m\n\u001b[0;31m    \"foo\" = 1\u001b[0m\n\u001b[0m    ^\u001b[0m\n\u001b[0;31mSyntaxError\u001b[0m\u001b[0;31m:\u001b[0m cannot assign to literal here. Maybe you meant '==' instead of '='?\n"
     ]
    }
   ],
   "source": [
    "\"foo\" = 1"
   ]
  },
  {
   "cell_type": "markdown",
   "id": "62730551-5e15-4790-bea5-d72b6bd86dbe",
   "metadata": {},
   "source": [
    "Example: misspelling of a Python keyword:"
   ]
  },
  {
   "cell_type": "code",
   "execution_count": 26,
   "id": "aecec057",
   "metadata": {},
   "outputs": [
    {
     "ename": "SyntaxError",
     "evalue": "invalid syntax (4099436772.py, line 1)",
     "output_type": "error",
     "traceback": [
      "\u001b[0;36m  Cell \u001b[0;32mIn[26], line 1\u001b[0;36m\u001b[0m\n\u001b[0;31m    fro i in range(10):\u001b[0m\n\u001b[0m        ^\u001b[0m\n\u001b[0;31mSyntaxError\u001b[0m\u001b[0;31m:\u001b[0m invalid syntax\n"
     ]
    }
   ],
   "source": [
    "fro i in range(10):\n",
    "    print(i)"
   ]
  },
  {
   "cell_type": "markdown",
   "id": "69e5cf6a",
   "metadata": {},
   "source": [
    "### 3.4.2 Exceptions\n",
    "Other type of errors in Python are _exceptions_. These happen when Python is being executed."
   ]
  },
  {
   "cell_type": "code",
   "execution_count": 19,
   "id": "b2b0b1f5",
   "metadata": {},
   "outputs": [
    {
     "ename": "ValueError",
     "evalue": "invalid literal for int() with base 10: 'two'",
     "output_type": "error",
     "traceback": [
      "\u001b[0;31m---------------------------------------------------------------------------\u001b[0m",
      "\u001b[0;31mValueError\u001b[0m                                Traceback (most recent call last)",
      "Input \u001b[0;32mIn [19]\u001b[0m, in \u001b[0;36m<module>\u001b[0;34m\u001b[0m\n\u001b[0;32m----> 1\u001b[0m \u001b[38;5;28;43mint\u001b[39;49m\u001b[43m(\u001b[49m\u001b[38;5;124;43m\"\u001b[39;49m\u001b[38;5;124;43mtwo\u001b[39;49m\u001b[38;5;124;43m\"\u001b[39;49m\u001b[43m)\u001b[49m\n",
      "\u001b[0;31mValueError\u001b[0m: invalid literal for int() with base 10: 'two'"
     ]
    }
   ],
   "source": [
    "int(\"two\")  # ValueError"
   ]
  },
  {
   "cell_type": "code",
   "execution_count": 21,
   "id": "b23da89c",
   "metadata": {},
   "outputs": [
    {
     "ename": "TypeError",
     "evalue": "int() argument must be a string, a bytes-like object or a real number, not 'complex'",
     "output_type": "error",
     "traceback": [
      "\u001b[0;31m---------------------------------------------------------------------------\u001b[0m",
      "\u001b[0;31mTypeError\u001b[0m                                 Traceback (most recent call last)",
      "Input \u001b[0;32mIn [21]\u001b[0m, in \u001b[0;36m<module>\u001b[0;34m\u001b[0m\n\u001b[0;32m----> 1\u001b[0m \u001b[38;5;28;43mint\u001b[39;49m\u001b[43m(\u001b[49m\u001b[38;5;241;43m4\u001b[39;49m\u001b[43m \u001b[49m\u001b[38;5;241;43m+\u001b[39;49m\u001b[43m \u001b[49m\u001b[38;5;241;43m1\u001b[39;49m\u001b[43mj\u001b[49m\u001b[43m)\u001b[49m\n",
      "\u001b[0;31mTypeError\u001b[0m: int() argument must be a string, a bytes-like object or a real number, not 'complex'"
     ]
    }
   ],
   "source": [
    "int(4 + 1j)  # TypeError"
   ]
  },
  {
   "cell_type": "markdown",
   "id": "bc641268",
   "metadata": {},
   "source": [
    "When we get an exception, we see what's called a traceback. The last (bottom) line of the error message indicates what happened. It gives us the kind of error (like `TypeError` or `ValueError`). And it gives us a human-friendly (-ish) message to help us figure out how to address the exception.\n",
    "\n",
    "The preceding part of the error message shows the context where the exception occurred, what code caused the error."
   ]
  },
  {
   "cell_type": "markdown",
   "id": "373bf31a",
   "metadata": {},
   "source": [
    "### 3.4.3 Handling Exceptions\n",
    "\n",
    "Ok so we might write code that raises an exception, which is normal - but we need to figure out what to do when we get an exception.\n",
    "\n",
    "Different programming languages handles errors and exceptions differently. For Python, we typically follow the \"it's easier to ask for forgiveness than permission\" (\"EAFP\"). This is where you write code with the expectation that it will work, that it will execute successfully, and then if an error happens, you deal with it. This is counter to the \"look before you leap\" approach, where you check whether something will succeed, and only proceed if you know it would be successful. [Here is a really good write up](https://devblogs.microsoft.com/python/idiomatic-python-eafp-versus-lbyl/) from a core Python developer that you might want to take a look at. \n",
    "\n",
    "---\n",
    "\n",
    "A simple metaphor: Say that you're coming home, and you've forgotten the keys to the door. You try to open the door because either maybe you sometimes don't lock it, or maybe your roommate is already home. But when you try to open the door, it is indeed locked. Therefore, you knock or ring the doorbell, so your roommate can come open the door. This is an example of asking for forgiveness than permission - you tried to open the door first, hoping it was open, before you ended up knocking. It's _reactive_.\n",
    "\n",
    "Say you arrive at the door, and just knocked first. Your roommate comes to the door to open it for you, and says to you, \"you know it was unlocked\". This is an example of \"look before you leap\". You asked to come in by knocking first since you didn't know whether or not the door was locked. This approach is _proactive_. \n"
   ]
  },
  {
   "cell_type": "markdown",
   "id": "6f8f4724-e658-4c3d-8550-d7597a56f67d",
   "metadata": {},
   "source": [
    "### 3.4.4 `try`-clauses (or `try`/`except`-clauses)\n",
    "\n",
    "It may not make sense quite yet - what \"ask for forgiveness than permission\" versus \"look before you leap\" actually _looks_ like in practice. We will get to that later on today when we handle files. But first I want to introduce you on the _how_. Basically, how to ask for forgiveness. We do this in Python by using what's called `try`-clauses or `try`/`except`-clauses."
   ]
  },
  {
   "cell_type": "code",
   "execution_count": 61,
   "id": "4a02359e",
   "metadata": {},
   "outputs": [],
   "source": [
    "# Basic try clause \n",
    "def try_cast_to_int(item):\n",
    "    try:\n",
    "        print(int(item))\n",
    "    except ValueError:\n",
    "        print(\"This is a value error\")"
   ]
  },
  {
   "cell_type": "code",
   "execution_count": 62,
   "id": "13bf00e1",
   "metadata": {},
   "outputs": [
    {
     "name": "stdout",
     "output_type": "stream",
     "text": [
      "2\n"
     ]
    }
   ],
   "source": [
    "try_cast_to_int(\"2\")"
   ]
  },
  {
   "cell_type": "code",
   "execution_count": 63,
   "id": "e74e34a6",
   "metadata": {},
   "outputs": [
    {
     "name": "stdout",
     "output_type": "stream",
     "text": [
      "This is a value error\n"
     ]
    }
   ],
   "source": [
    "try_cast_to_int(\"two\")"
   ]
  },
  {
   "cell_type": "markdown",
   "id": "7ad2a020",
   "metadata": {},
   "source": [
    "The function first tries to cast the argument `item` to an `int`. If it can't and it raises a `ValueError`, then we print that we got a value error.\n",
    "\n",
    "But recall from before, if we cast a complex number to an `int`, it raises a different type of exception, a `TypeError`:"
   ]
  },
  {
   "cell_type": "code",
   "execution_count": 65,
   "id": "d6c3c21d",
   "metadata": {},
   "outputs": [
    {
     "ename": "TypeError",
     "evalue": "int() argument must be a string, a bytes-like object or a real number, not 'complex'",
     "output_type": "error",
     "traceback": [
      "\u001b[0;31m---------------------------------------------------------------------------\u001b[0m",
      "\u001b[0;31mTypeError\u001b[0m                                 Traceback (most recent call last)",
      "Input \u001b[0;32mIn [65]\u001b[0m, in \u001b[0;36m<module>\u001b[0;34m\u001b[0m\n\u001b[1;32m      1\u001b[0m \u001b[38;5;66;03m# Example of an unhandled exception\u001b[39;00m\n\u001b[0;32m----> 2\u001b[0m \u001b[43mtry_cast_to_int\u001b[49m\u001b[43m(\u001b[49m\u001b[38;5;241;43m4\u001b[39;49m\u001b[43m \u001b[49m\u001b[38;5;241;43m+\u001b[39;49m\u001b[43m \u001b[49m\u001b[38;5;241;43m1\u001b[39;49m\u001b[43mj\u001b[49m\u001b[43m)\u001b[49m\n",
      "Input \u001b[0;32mIn [61]\u001b[0m, in \u001b[0;36mtry_cast_to_int\u001b[0;34m(item)\u001b[0m\n\u001b[1;32m      2\u001b[0m \u001b[38;5;28;01mdef\u001b[39;00m \u001b[38;5;21mtry_cast_to_int\u001b[39m(item):\n\u001b[1;32m      3\u001b[0m     \u001b[38;5;28;01mtry\u001b[39;00m:\n\u001b[0;32m----> 4\u001b[0m         \u001b[38;5;28mprint\u001b[39m(\u001b[38;5;28;43mint\u001b[39;49m\u001b[43m(\u001b[49m\u001b[43mitem\u001b[49m\u001b[43m)\u001b[49m)\n\u001b[1;32m      5\u001b[0m     \u001b[38;5;28;01mexcept\u001b[39;00m \u001b[38;5;167;01mValueError\u001b[39;00m:\n\u001b[1;32m      6\u001b[0m         \u001b[38;5;28mprint\u001b[39m(\u001b[38;5;124m\"\u001b[39m\u001b[38;5;124mThis is a value error\u001b[39m\u001b[38;5;124m\"\u001b[39m)\n",
      "\u001b[0;31mTypeError\u001b[0m: int() argument must be a string, a bytes-like object or a real number, not 'complex'"
     ]
    }
   ],
   "source": [
    "# Example of an unhandled exception\n",
    "try_cast_to_int(4 + 1j)"
   ]
  },
  {
   "cell_type": "markdown",
   "id": "02c9b176",
   "metadata": {},
   "source": [
    "We see that we're not handling _all_ possible exceptions that could happen when casting an unknown argument to an integer. \n",
    "\n",
    "We can catch multiple exceptions with our code:"
   ]
  },
  {
   "cell_type": "code",
   "execution_count": 66,
   "id": "3328d872",
   "metadata": {},
   "outputs": [],
   "source": [
    "# Catch multiple errors\n",
    "def try_cast_to_int(item):\n",
    "    try:\n",
    "        print(int(item))\n",
    "    except ValueError:\n",
    "        print(\"This is a value error\")\n",
    "    except TypeError: # Multiple \"excepts\" can handle errors differently\n",
    "        print(\"This is a type error\")"
   ]
  },
  {
   "cell_type": "code",
   "execution_count": 67,
   "id": "35f40563",
   "metadata": {},
   "outputs": [
    {
     "name": "stdout",
     "output_type": "stream",
     "text": [
      "This is a value error\n"
     ]
    }
   ],
   "source": [
    "try_cast_to_int(\"two\")"
   ]
  },
  {
   "cell_type": "code",
   "execution_count": 68,
   "id": "53fd0543",
   "metadata": {},
   "outputs": [
    {
     "name": "stdout",
     "output_type": "stream",
     "text": [
      "This is a type error\n"
     ]
    }
   ],
   "source": [
    "try_cast_to_int(4 + 1j)"
   ]
  },
  {
   "cell_type": "code",
   "execution_count": 69,
   "id": "8721ceba",
   "metadata": {},
   "outputs": [],
   "source": [
    "# Can catch multiple types of errors with one \"except\"\n",
    "def try_cast_to_int(item):\n",
    "    try:\n",
    "        print(int(item))\n",
    "    except (ValueError, TypeError):  \n",
    "        print(\"Caught an error!\")"
   ]
  },
  {
   "cell_type": "code",
   "execution_count": 70,
   "id": "1771b1ac",
   "metadata": {},
   "outputs": [
    {
     "name": "stdout",
     "output_type": "stream",
     "text": [
      "Caught an error!\n"
     ]
    }
   ],
   "source": [
    "try_cast_to_int(\"two\")"
   ]
  },
  {
   "cell_type": "code",
   "execution_count": 71,
   "id": "688a003f",
   "metadata": {},
   "outputs": [],
   "source": [
    "# Can alias error(s) with \"as\" keyword\n",
    "def try_cast_to_int(item):\n",
    "    try:\n",
    "        print(int(item))\n",
    "    except (ValueError, TypeError) as err:  \n",
    "        print(f\"Caught an error: {err}\")"
   ]
  },
  {
   "cell_type": "code",
   "execution_count": 72,
   "id": "957824c5",
   "metadata": {},
   "outputs": [
    {
     "name": "stdout",
     "output_type": "stream",
     "text": [
      "Caught an error: int() argument must be a string, a bytes-like object or a real number, not 'complex'\n"
     ]
    }
   ],
   "source": [
    "try_cast_to_int(4 + 1j)"
   ]
  },
  {
   "cell_type": "markdown",
   "id": "aa049b26",
   "metadata": {},
   "source": [
    "Note that `err` is not accessible outside the `except` clause. It's [_locally scoped_](#3.1.3-Local-Scope) to the `except` clause:"
   ]
  },
  {
   "cell_type": "code",
   "execution_count": 27,
   "id": "b6d2ff6f",
   "metadata": {},
   "outputs": [
    {
     "name": "stdout",
     "output_type": "stream",
     "text": [
      "Caught an error: invalid literal for int() with base 10: 'two'\n"
     ]
    },
    {
     "ename": "UnboundLocalError",
     "evalue": "local variable 'err' referenced before assignment",
     "output_type": "error",
     "traceback": [
      "\u001b[0;31m---------------------------------------------------------------------------\u001b[0m",
      "\u001b[0;31mUnboundLocalError\u001b[0m                         Traceback (most recent call last)",
      "Cell \u001b[0;32mIn[27], line 9\u001b[0m\n\u001b[1;32m      5\u001b[0m         \u001b[38;5;28mprint\u001b[39m(\u001b[38;5;124mf\u001b[39m\u001b[38;5;124m\"\u001b[39m\u001b[38;5;124mCaught an error: \u001b[39m\u001b[38;5;132;01m{\u001b[39;00merr\u001b[38;5;132;01m}\u001b[39;00m\u001b[38;5;124m\"\u001b[39m)\n\u001b[1;32m      7\u001b[0m     \u001b[38;5;28mprint\u001b[39m(err)\n\u001b[0;32m----> 9\u001b[0m \u001b[43mtry_cast_to_int\u001b[49m\u001b[43m(\u001b[49m\u001b[38;5;124;43m\"\u001b[39;49m\u001b[38;5;124;43mtwo\u001b[39;49m\u001b[38;5;124;43m\"\u001b[39;49m\u001b[43m)\u001b[49m\n",
      "Cell \u001b[0;32mIn[27], line 7\u001b[0m, in \u001b[0;36mtry_cast_to_int\u001b[0;34m(item)\u001b[0m\n\u001b[1;32m      4\u001b[0m \u001b[38;5;28;01mexcept\u001b[39;00m (\u001b[38;5;167;01mValueError\u001b[39;00m, \u001b[38;5;167;01mTypeError\u001b[39;00m) \u001b[38;5;28;01mas\u001b[39;00m err:  \n\u001b[1;32m      5\u001b[0m     \u001b[38;5;28mprint\u001b[39m(\u001b[38;5;124mf\u001b[39m\u001b[38;5;124m\"\u001b[39m\u001b[38;5;124mCaught an error: \u001b[39m\u001b[38;5;132;01m{\u001b[39;00merr\u001b[38;5;132;01m}\u001b[39;00m\u001b[38;5;124m\"\u001b[39m)\n\u001b[0;32m----> 7\u001b[0m \u001b[38;5;28mprint\u001b[39m(\u001b[43merr\u001b[49m)\n",
      "\u001b[0;31mUnboundLocalError\u001b[0m: local variable 'err' referenced before assignment"
     ]
    }
   ],
   "source": [
    "def try_cast_to_int(item):\n",
    "    try:\n",
    "        print(int(item))\n",
    "    except (ValueError, TypeError) as err:  \n",
    "        print(f\"Caught an error: {err}\")\n",
    "        \n",
    "    print(err)\n",
    "    \n",
    "try_cast_to_int(\"two\")"
   ]
  },
  {
   "cell_type": "markdown",
   "id": "200d953e-692b-4154-b5c3-1066faf131fe",
   "metadata": {},
   "source": [
    "We get an `UnboundLocalError` because the variable `err` doesn't exist _unless_ we hit the `except` clause. If we don't hit the `except` clause, Python does not know what `err` should be."
   ]
  },
  {
   "cell_type": "markdown",
   "id": "8425d6b6-ebda-480b-a16a-121cdfef0c4b",
   "metadata": {},
   "source": [
    "#### Bare Exceptions\n",
    "\n",
    "You can use a \"naked\" or \"bare\" except to catch all errors, or all other errors.\n",
    "This is considered bad form. It swallows _all_ exceptions, which can be difficult to debug."
   ]
  },
  {
   "cell_type": "code",
   "execution_count": 29,
   "id": "7fda4902-f7d7-4e2b-b4f5-177f0de802d7",
   "metadata": {},
   "outputs": [],
   "source": [
    "# Example 1: using a bare exception after explicitly catching ValueError and TypeError\n",
    "def try_cast_to_int(item):\n",
    "    try:\n",
    "        print(int(item))\n",
    "    except (ValueError, TypeError) as err:  \n",
    "        print(f\"Caught an error: {err}\")\n",
    "    except:  # bare exception\n",
    "        print(f\"Caught everything else\")"
   ]
  },
  {
   "cell_type": "code",
   "execution_count": 30,
   "id": "5a7f0b5f",
   "metadata": {},
   "outputs": [],
   "source": [
    "# Example 2: only using a bare exception\n",
    "def try_cast_to_int(item):\n",
    "    try:\n",
    "        print(int(item))\n",
    "    except:  # bare exception\n",
    "        print(\"This is a catch-all error logic branch\")"
   ]
  },
  {
   "cell_type": "code",
   "execution_count": 31,
   "id": "407b7c92",
   "metadata": {},
   "outputs": [
    {
     "name": "stdout",
     "output_type": "stream",
     "text": [
      "This is a catch-all error logic branch\n"
     ]
    }
   ],
   "source": [
    "try_cast_to_int(\"two\")"
   ]
  },
  {
   "cell_type": "markdown",
   "id": "74a67fc3",
   "metadata": {},
   "source": [
    "### 3.4.5 Using `else` with `try`-clauses\n",
    "\n",
    "Remember that we can have `if`-`else` clauses, and we can also have `for`-loops and `while`-loops with an `else` clause. \n",
    "\n",
    "Well, we can also have an `else` clause with our `try` clause:"
   ]
  },
  {
   "cell_type": "code",
   "execution_count": 77,
   "id": "abc23e27",
   "metadata": {},
   "outputs": [],
   "source": [
    "def try_cast_to_int(item):\n",
    "    try:\n",
    "        int_item = int(item)\n",
    "    except (ValueError, TypeError) as err:  \n",
    "        print(f\"Caught an error: {err}\")\n",
    "    else:  # if the `try` succeeds\n",
    "        print(f\"Succeeding at casting item to {int_item}\")"
   ]
  },
  {
   "cell_type": "code",
   "execution_count": 78,
   "id": "9ec98b1f",
   "metadata": {},
   "outputs": [
    {
     "name": "stdout",
     "output_type": "stream",
     "text": [
      "Succeeding at casting item to 2\n"
     ]
    }
   ],
   "source": [
    "try_cast_to_int(\"2\")"
   ]
  },
  {
   "cell_type": "code",
   "execution_count": 79,
   "id": "f9738627",
   "metadata": {},
   "outputs": [
    {
     "name": "stdout",
     "output_type": "stream",
     "text": [
      "Caught an error: invalid literal for int() with base 10: 'two'\n"
     ]
    }
   ],
   "source": [
    "try_cast_to_int(\"two\")"
   ]
  },
  {
   "cell_type": "code",
   "execution_count": 18,
   "id": "c562c04a",
   "metadata": {},
   "outputs": [],
   "source": [
    "# This above is equivalent to:\n",
    "def try_cast_to_int(item):\n",
    "    try:\n",
    "        int_item = int(item)\n",
    "    except (ValueError, TypeError) as err:  \n",
    "        print(f\"Caught an error: {err}\")\n",
    "        return  # need this otherwise the `print` call below would be executed\n",
    "    \n",
    "    print(f\"Succeeding at casting item to {int_item}\")"
   ]
  },
  {
   "cell_type": "code",
   "execution_count": 19,
   "id": "72718cda",
   "metadata": {},
   "outputs": [
    {
     "name": "stdout",
     "output_type": "stream",
     "text": [
      "Succeeding at casting item to 2\n"
     ]
    }
   ],
   "source": [
    "try_cast_to_int(\"2\")"
   ]
  },
  {
   "cell_type": "code",
   "execution_count": 20,
   "id": "cce4d5e0",
   "metadata": {},
   "outputs": [
    {
     "name": "stdout",
     "output_type": "stream",
     "text": [
      "Caught an error: invalid literal for int() with base 10: 'two'\n"
     ]
    }
   ],
   "source": [
    "try_cast_to_int(\"two\")"
   ]
  },
  {
   "cell_type": "markdown",
   "id": "4c073af5",
   "metadata": {},
   "source": [
    "### 3.4.6 Using `finally` with `try`-clauses\n",
    "\n",
    "We have another keyword we can use, called `finally`.\n",
    "\n",
    "A `finally` statement is _always_ executed after `try`, `except`, and `else` clauses."
   ]
  },
  {
   "cell_type": "code",
   "execution_count": 83,
   "id": "c54172f4",
   "metadata": {},
   "outputs": [],
   "source": [
    "def try_cast_to_int(item):\n",
    "    try:\n",
    "        int_item = int(item)\n",
    "    except (ValueError, TypeError) as err:  \n",
    "        print(f\"Caught an error: {err}\")\n",
    "    else:\n",
    "        print(f\"Succeeding at casting item to {int_item}\")\n",
    "    finally:\n",
    "        print(\"Do something regardless of result!\")"
   ]
  },
  {
   "cell_type": "code",
   "execution_count": 84,
   "id": "3eccec38",
   "metadata": {},
   "outputs": [
    {
     "name": "stdout",
     "output_type": "stream",
     "text": [
      "Succeeding at casting item to 2\n",
      "Do something regardless of result!\n"
     ]
    }
   ],
   "source": [
    "try_cast_to_int(\"2\")"
   ]
  },
  {
   "cell_type": "code",
   "execution_count": 85,
   "id": "e9ff3abb",
   "metadata": {},
   "outputs": [
    {
     "name": "stdout",
     "output_type": "stream",
     "text": [
      "Caught an error: invalid literal for int() with base 10: 'two'\n",
      "Do something regardless of result!\n"
     ]
    }
   ],
   "source": [
    "try_cast_to_int(\"two\")"
   ]
  },
  {
   "cell_type": "markdown",
   "id": "cc8eb442",
   "metadata": {},
   "source": [
    "Let's rework to make our function return a boolean if the given item can be \"`int`-able\" or not."
   ]
  },
  {
   "cell_type": "code",
   "execution_count": 86,
   "id": "c30dc3bc",
   "metadata": {},
   "outputs": [],
   "source": [
    "def is_int_able(item):\n",
    "    try:\n",
    "        int_item = int(item)\n",
    "    except (ValueError, TypeError) as err:  \n",
    "        print(f\"Caught an error: {err}\")\n",
    "        return False\n",
    "    else:\n",
    "        print(f\"Succeeding at casting item to {int_item}\")\n",
    "        return True\n",
    "    finally:\n",
    "        print(\"Do something regardless of result!\")"
   ]
  },
  {
   "cell_type": "code",
   "execution_count": 89,
   "id": "251300d6",
   "metadata": {},
   "outputs": [
    {
     "name": "stdout",
     "output_type": "stream",
     "text": [
      "Succeeding at casting item to 2\n",
      "Do something regardless of result!\n"
     ]
    }
   ],
   "source": [
    "result = is_int_able(\"2\")"
   ]
  },
  {
   "cell_type": "code",
   "execution_count": 90,
   "id": "484fc7dc",
   "metadata": {},
   "outputs": [
    {
     "data": {
      "text/plain": [
       "True"
      ]
     },
     "execution_count": 90,
     "metadata": {},
     "output_type": "execute_result"
    }
   ],
   "source": [
    "result"
   ]
  },
  {
   "cell_type": "code",
   "execution_count": 91,
   "id": "d635d62a",
   "metadata": {},
   "outputs": [
    {
     "name": "stdout",
     "output_type": "stream",
     "text": [
      "Caught an error: invalid literal for int() with base 10: 'two'\n",
      "Do something regardless of result!\n"
     ]
    }
   ],
   "source": [
    "result = is_int_able(\"two\")"
   ]
  },
  {
   "cell_type": "code",
   "execution_count": 92,
   "id": "7a8a39c3",
   "metadata": {},
   "outputs": [
    {
     "data": {
      "text/plain": [
       "False"
      ]
     },
     "execution_count": 92,
     "metadata": {},
     "output_type": "execute_result"
    }
   ],
   "source": [
    "result"
   ]
  },
  {
   "cell_type": "markdown",
   "id": "b1a64093",
   "metadata": {},
   "source": [
    "Now to see why the `finally` can be important, we can reworked our `is_int_able` to remove the `finally` clause and put the last `print` call outside the `try`-`except`-`else` clause:"
   ]
  },
  {
   "cell_type": "code",
   "execution_count": 93,
   "id": "8aa8f7ff",
   "metadata": {},
   "outputs": [],
   "source": [
    "def is_int_able(item):\n",
    "    try:\n",
    "        int_item = int(item)\n",
    "    except (ValueError, TypeError) as err:  \n",
    "        print(f\"Caught an error: {err}\")\n",
    "        return False\n",
    "    else:\n",
    "        print(f\"Succeeding at casting item to {int_item}\")\n",
    "        return True\n",
    "\n",
    "    # We won't ever get here\n",
    "    print(\"Do something regardless of result!\")"
   ]
  },
  {
   "cell_type": "code",
   "execution_count": 97,
   "id": "c6835f1f",
   "metadata": {},
   "outputs": [
    {
     "name": "stdout",
     "output_type": "stream",
     "text": [
      "Succeeding at casting item to 2\n"
     ]
    },
    {
     "data": {
      "text/plain": [
       "True"
      ]
     },
     "execution_count": 97,
     "metadata": {},
     "output_type": "execute_result"
    }
   ],
   "source": [
    "is_int_able(\"2\")"
   ]
  },
  {
   "cell_type": "code",
   "execution_count": 98,
   "id": "a8efaeb2",
   "metadata": {},
   "outputs": [
    {
     "name": "stdout",
     "output_type": "stream",
     "text": [
      "Caught an error: invalid literal for int() with base 10: 'two'\n"
     ]
    },
    {
     "data": {
      "text/plain": [
       "False"
      ]
     },
     "execution_count": 98,
     "metadata": {},
     "output_type": "execute_result"
    }
   ],
   "source": [
    "is_int_able(\"two\")"
   ]
  },
  {
   "cell_type": "markdown",
   "id": "5e16ec37",
   "metadata": {},
   "source": [
    "Notice that the last line in the function never gets executed in either case."
   ]
  },
  {
   "cell_type": "markdown",
   "id": "1eaa9f0c-eb4e-4a80-9dfe-30ea21d2864f",
   "metadata": {},
   "source": [
    "#### `try`, `except`, `else`, and `finally` groupings\n",
    "\n",
    "**It's important to note:** \n",
    "\n",
    "You can have:\n",
    "* `try` + `except` paired together\n",
    "* `try` + `finally` paired together\n",
    "* `try` + `except` + `else`\n",
    "* `try` + `except` + `finally`\n",
    "* `try` + `except` + `else` + `finally`\n",
    "\n",
    "But never:\n",
    "* just `try`\n",
    "* just `try` and `else` paired together. "
   ]
  },
  {
   "cell_type": "code",
   "execution_count": 36,
   "id": "0ac69184-65b4-42e6-bdae-c374c69780be",
   "metadata": {},
   "outputs": [],
   "source": [
    "# Valid\n",
    "def try_cast_to_int(item):\n",
    "    try:\n",
    "        int_item = int(item)\n",
    "    finally:\n",
    "        print(\"Do something regardless of result!\")"
   ]
  },
  {
   "cell_type": "code",
   "execution_count": 33,
   "id": "4814d5a7-7450-4327-a7a0-e1f2743074b8",
   "metadata": {},
   "outputs": [
    {
     "name": "stdout",
     "output_type": "stream",
     "text": [
      "Do something regardless of result!\n"
     ]
    }
   ],
   "source": [
    "try_cast_to_int(\"2\")"
   ]
  },
  {
   "cell_type": "code",
   "execution_count": 34,
   "id": "48682ee8-e32d-4fb2-8b9f-23d59e7969bd",
   "metadata": {},
   "outputs": [
    {
     "name": "stdout",
     "output_type": "stream",
     "text": [
      "Do something regardless of result!\n"
     ]
    },
    {
     "ename": "ValueError",
     "evalue": "invalid literal for int() with base 10: 'two'",
     "output_type": "error",
     "traceback": [
      "\u001b[0;31m---------------------------------------------------------------------------\u001b[0m",
      "\u001b[0;31mValueError\u001b[0m                                Traceback (most recent call last)",
      "Cell \u001b[0;32mIn[34], line 1\u001b[0m\n\u001b[0;32m----> 1\u001b[0m \u001b[43mtry_cast_to_int\u001b[49m\u001b[43m(\u001b[49m\u001b[38;5;124;43m\"\u001b[39;49m\u001b[38;5;124;43mtwo\u001b[39;49m\u001b[38;5;124;43m\"\u001b[39;49m\u001b[43m)\u001b[49m\n",
      "Cell \u001b[0;32mIn[32], line 3\u001b[0m, in \u001b[0;36mtry_cast_to_int\u001b[0;34m(item)\u001b[0m\n\u001b[1;32m      1\u001b[0m \u001b[38;5;28;01mdef\u001b[39;00m \u001b[38;5;21mtry_cast_to_int\u001b[39m(item):\n\u001b[1;32m      2\u001b[0m     \u001b[38;5;28;01mtry\u001b[39;00m:\n\u001b[0;32m----> 3\u001b[0m         int_item \u001b[38;5;241m=\u001b[39m \u001b[38;5;28;43mint\u001b[39;49m\u001b[43m(\u001b[49m\u001b[43mitem\u001b[49m\u001b[43m)\u001b[49m\n\u001b[1;32m      4\u001b[0m     \u001b[38;5;28;01mfinally\u001b[39;00m:\n\u001b[1;32m      5\u001b[0m         \u001b[38;5;28mprint\u001b[39m(\u001b[38;5;124m\"\u001b[39m\u001b[38;5;124mDo something regardless of result!\u001b[39m\u001b[38;5;124m\"\u001b[39m)\n",
      "\u001b[0;31mValueError\u001b[0m: invalid literal for int() with base 10: 'two'"
     ]
    }
   ],
   "source": [
    "try_cast_to_int(\"two\")"
   ]
  },
  {
   "cell_type": "code",
   "execution_count": 37,
   "id": "b3a886ab-c53d-4faa-bab8-a60488a4f276",
   "metadata": {},
   "outputs": [
    {
     "ename": "SyntaxError",
     "evalue": "expected 'except' or 'finally' block (939510008.py, line 6)",
     "output_type": "error",
     "traceback": [
      "\u001b[0;36m  Cell \u001b[0;32mIn[37], line 6\u001b[0;36m\u001b[0m\n\u001b[0;31m    print(\"done\")\u001b[0m\n\u001b[0m    ^\u001b[0m\n\u001b[0;31mSyntaxError\u001b[0m\u001b[0;31m:\u001b[0m expected 'except' or 'finally' block\n"
     ]
    }
   ],
   "source": [
    "# Not valid\n",
    "def try_cast_to_int(item):\n",
    "    try:\n",
    "        int_item = int(item)\n",
    "    \n",
    "    print(\"done\")"
   ]
  },
  {
   "cell_type": "code",
   "execution_count": 35,
   "id": "d54a8072-1eed-4d21-a6b7-c61cf0d29390",
   "metadata": {},
   "outputs": [
    {
     "ename": "SyntaxError",
     "evalue": "expected 'except' or 'finally' block (221756645.py, line 4)",
     "output_type": "error",
     "traceback": [
      "\u001b[0;36m  Cell \u001b[0;32mIn[35], line 4\u001b[0;36m\u001b[0m\n\u001b[0;31m    else:\u001b[0m\n\u001b[0m    ^\u001b[0m\n\u001b[0;31mSyntaxError\u001b[0m\u001b[0;31m:\u001b[0m expected 'except' or 'finally' block\n"
     ]
    }
   ],
   "source": [
    "# Not valid:\n",
    "def try_cast_to_int(item):\n",
    "    try:\n",
    "        int_item = int(item)\n",
    "    else:\n",
    "        print(\"Do something regardless of result!\")"
   ]
  },
  {
   "cell_type": "markdown",
   "id": "3e4b6764",
   "metadata": {},
   "source": [
    "## 3.5 Raising Exceptions\n",
    "\n",
    "As we write our own functions, sometimes we want to fail when we can't handle a certain input when our function is called. By using the `raise` statement, we can \"throw\" or raise exceptions when we want to."
   ]
  },
  {
   "cell_type": "markdown",
   "id": "1c7e8b5c",
   "metadata": {},
   "source": [
    "### 3.5.1 Re-raising\n",
    "\n",
    "We can re-raise an exception that we ourselves catch. We might want to do this if we want to do something (for example, printing or logging that an exception happened) before \"crashing\"/erroring out."
   ]
  },
  {
   "cell_type": "code",
   "execution_count": 99,
   "id": "23e9e809",
   "metadata": {},
   "outputs": [],
   "source": [
    "def is_int_able(item):\n",
    "    try:\n",
    "        int_item = int(item)\n",
    "    except (ValueError, TypeError) as err:  \n",
    "        print(\"We caught an error!\")\n",
    "        raise err  # raising the same error we caught"
   ]
  },
  {
   "cell_type": "code",
   "execution_count": 100,
   "id": "634a8461",
   "metadata": {},
   "outputs": [
    {
     "name": "stdout",
     "output_type": "stream",
     "text": [
      "We caught an error!\n"
     ]
    },
    {
     "ename": "ValueError",
     "evalue": "invalid literal for int() with base 10: 'two'",
     "output_type": "error",
     "traceback": [
      "\u001b[0;31m---------------------------------------------------------------------------\u001b[0m",
      "\u001b[0;31mValueError\u001b[0m                                Traceback (most recent call last)",
      "Input \u001b[0;32mIn [100]\u001b[0m, in \u001b[0;36m<module>\u001b[0;34m\u001b[0m\n\u001b[0;32m----> 1\u001b[0m \u001b[43mis_int_able\u001b[49m\u001b[43m(\u001b[49m\u001b[38;5;124;43m\"\u001b[39;49m\u001b[38;5;124;43mtwo\u001b[39;49m\u001b[38;5;124;43m\"\u001b[39;49m\u001b[43m)\u001b[49m\n",
      "Input \u001b[0;32mIn [99]\u001b[0m, in \u001b[0;36mis_int_able\u001b[0;34m(item)\u001b[0m\n\u001b[1;32m      4\u001b[0m \u001b[38;5;28;01mexcept\u001b[39;00m (\u001b[38;5;167;01mValueError\u001b[39;00m, \u001b[38;5;167;01mTypeError\u001b[39;00m) \u001b[38;5;28;01mas\u001b[39;00m err:  \n\u001b[1;32m      5\u001b[0m     \u001b[38;5;28mprint\u001b[39m(\u001b[38;5;124m\"\u001b[39m\u001b[38;5;124mWe caught an error!\u001b[39m\u001b[38;5;124m\"\u001b[39m)\n\u001b[0;32m----> 6\u001b[0m     \u001b[38;5;28;01mraise\u001b[39;00m err\n",
      "Input \u001b[0;32mIn [99]\u001b[0m, in \u001b[0;36mis_int_able\u001b[0;34m(item)\u001b[0m\n\u001b[1;32m      1\u001b[0m \u001b[38;5;28;01mdef\u001b[39;00m \u001b[38;5;21mis_int_able\u001b[39m(item):\n\u001b[1;32m      2\u001b[0m     \u001b[38;5;28;01mtry\u001b[39;00m:\n\u001b[0;32m----> 3\u001b[0m         int_item \u001b[38;5;241m=\u001b[39m \u001b[38;5;28;43mint\u001b[39;49m\u001b[43m(\u001b[49m\u001b[43mitem\u001b[49m\u001b[43m)\u001b[49m\n\u001b[1;32m      4\u001b[0m     \u001b[38;5;28;01mexcept\u001b[39;00m (\u001b[38;5;167;01mValueError\u001b[39;00m, \u001b[38;5;167;01mTypeError\u001b[39;00m) \u001b[38;5;28;01mas\u001b[39;00m err:  \n\u001b[1;32m      5\u001b[0m         \u001b[38;5;28mprint\u001b[39m(\u001b[38;5;124m\"\u001b[39m\u001b[38;5;124mWe caught an error!\u001b[39m\u001b[38;5;124m\"\u001b[39m)\n",
      "\u001b[0;31mValueError\u001b[0m: invalid literal for int() with base 10: 'two'"
     ]
    }
   ],
   "source": [
    "is_int_able(\"two\")"
   ]
  },
  {
   "cell_type": "code",
   "execution_count": 101,
   "id": "956f1597",
   "metadata": {},
   "outputs": [],
   "source": [
    "# This is the same as the following (\"naked\" raise)\n",
    "def is_int_able(item):\n",
    "    try:\n",
    "        int_item = int(item)\n",
    "    except (ValueError, TypeError) as err:  \n",
    "        print(\"We caught an error!\")\n",
    "        raise"
   ]
  },
  {
   "cell_type": "code",
   "execution_count": 102,
   "id": "44d99bcc",
   "metadata": {},
   "outputs": [
    {
     "name": "stdout",
     "output_type": "stream",
     "text": [
      "We caught an error!\n"
     ]
    },
    {
     "ename": "ValueError",
     "evalue": "invalid literal for int() with base 10: 'two'",
     "output_type": "error",
     "traceback": [
      "\u001b[0;31m---------------------------------------------------------------------------\u001b[0m",
      "\u001b[0;31mValueError\u001b[0m                                Traceback (most recent call last)",
      "Input \u001b[0;32mIn [102]\u001b[0m, in \u001b[0;36m<module>\u001b[0;34m\u001b[0m\n\u001b[0;32m----> 1\u001b[0m \u001b[43mis_int_able\u001b[49m\u001b[43m(\u001b[49m\u001b[38;5;124;43m\"\u001b[39;49m\u001b[38;5;124;43mtwo\u001b[39;49m\u001b[38;5;124;43m\"\u001b[39;49m\u001b[43m)\u001b[49m\n",
      "Input \u001b[0;32mIn [101]\u001b[0m, in \u001b[0;36mis_int_able\u001b[0;34m(item)\u001b[0m\n\u001b[1;32m      2\u001b[0m \u001b[38;5;28;01mdef\u001b[39;00m \u001b[38;5;21mis_int_able\u001b[39m(item):\n\u001b[1;32m      3\u001b[0m     \u001b[38;5;28;01mtry\u001b[39;00m:\n\u001b[0;32m----> 4\u001b[0m         int_item \u001b[38;5;241m=\u001b[39m \u001b[38;5;28;43mint\u001b[39;49m\u001b[43m(\u001b[49m\u001b[43mitem\u001b[49m\u001b[43m)\u001b[49m\n\u001b[1;32m      5\u001b[0m     \u001b[38;5;28;01mexcept\u001b[39;00m (\u001b[38;5;167;01mValueError\u001b[39;00m, \u001b[38;5;167;01mTypeError\u001b[39;00m) \u001b[38;5;28;01mas\u001b[39;00m err:  \n\u001b[1;32m      6\u001b[0m         \u001b[38;5;28mprint\u001b[39m(\u001b[38;5;124m\"\u001b[39m\u001b[38;5;124mWe caught an error!\u001b[39m\u001b[38;5;124m\"\u001b[39m)\n",
      "\u001b[0;31mValueError\u001b[0m: invalid literal for int() with base 10: 'two'"
     ]
    }
   ],
   "source": [
    "is_int_able(\"two\")"
   ]
  },
  {
   "cell_type": "markdown",
   "id": "e3ce66df",
   "metadata": {},
   "source": [
    "#### An Aside\n",
    "\n",
    "Here, the traceback isn't telling us anything we didn't already know because we have all of the relevant code in front of us. \n",
    "\n",
    "But tracebacks are absolutely essential to read if you have a more typical situation, where perhaps you wrote some code, which got some input, which passed the input to functions in a module you imported, which itself passed that input to other modules it imported, which...\n",
    "\n",
    "In these cases, your context for understanding what went wrong depends on your ability to interpret the traceback!"
   ]
  },
  {
   "cell_type": "markdown",
   "id": "868f6232",
   "metadata": {},
   "source": [
    "### 3.5.2 Raising a Built-in Exception\n",
    "\n",
    "Sometimes we want to raise an exception different than the one we might have caught in our code. Python has many built-in exceptions - [have a look](https://docs.python.org/3/library/exceptions.html)."
   ]
  },
  {
   "cell_type": "code",
   "execution_count": 103,
   "id": "c35fed10",
   "metadata": {},
   "outputs": [],
   "source": [
    "def is_int_able(item):\n",
    "    try:\n",
    "        int_item = int(item)\n",
    "    except (ValueError, TypeError) as err:  \n",
    "        raise RuntimeError(\"Something went wrong!!\")"
   ]
  },
  {
   "cell_type": "code",
   "execution_count": 104,
   "id": "8c64b093",
   "metadata": {},
   "outputs": [
    {
     "ename": "RuntimeError",
     "evalue": "Something went wrong!!",
     "output_type": "error",
     "traceback": [
      "\u001b[0;31m---------------------------------------------------------------------------\u001b[0m",
      "\u001b[0;31mValueError\u001b[0m                                Traceback (most recent call last)",
      "Input \u001b[0;32mIn [103]\u001b[0m, in \u001b[0;36mis_int_able\u001b[0;34m(item)\u001b[0m\n\u001b[1;32m      2\u001b[0m \u001b[38;5;28;01mtry\u001b[39;00m:\n\u001b[0;32m----> 3\u001b[0m     int_item \u001b[38;5;241m=\u001b[39m \u001b[38;5;28;43mint\u001b[39;49m\u001b[43m(\u001b[49m\u001b[43mitem\u001b[49m\u001b[43m)\u001b[49m\n\u001b[1;32m      4\u001b[0m \u001b[38;5;28;01mexcept\u001b[39;00m (\u001b[38;5;167;01mValueError\u001b[39;00m, \u001b[38;5;167;01mTypeError\u001b[39;00m) \u001b[38;5;28;01mas\u001b[39;00m err:  \n",
      "\u001b[0;31mValueError\u001b[0m: invalid literal for int() with base 10: 'two'",
      "\nDuring handling of the above exception, another exception occurred:\n",
      "\u001b[0;31mRuntimeError\u001b[0m                              Traceback (most recent call last)",
      "Input \u001b[0;32mIn [104]\u001b[0m, in \u001b[0;36m<module>\u001b[0;34m\u001b[0m\n\u001b[0;32m----> 1\u001b[0m \u001b[43mis_int_able\u001b[49m\u001b[43m(\u001b[49m\u001b[38;5;124;43m\"\u001b[39;49m\u001b[38;5;124;43mtwo\u001b[39;49m\u001b[38;5;124;43m\"\u001b[39;49m\u001b[43m)\u001b[49m\n",
      "Input \u001b[0;32mIn [103]\u001b[0m, in \u001b[0;36mis_int_able\u001b[0;34m(item)\u001b[0m\n\u001b[1;32m      3\u001b[0m     int_item \u001b[38;5;241m=\u001b[39m \u001b[38;5;28mint\u001b[39m(item)\n\u001b[1;32m      4\u001b[0m \u001b[38;5;28;01mexcept\u001b[39;00m (\u001b[38;5;167;01mValueError\u001b[39;00m, \u001b[38;5;167;01mTypeError\u001b[39;00m) \u001b[38;5;28;01mas\u001b[39;00m err:  \n\u001b[0;32m----> 5\u001b[0m     \u001b[38;5;28;01mraise\u001b[39;00m \u001b[38;5;167;01mRuntimeError\u001b[39;00m(\u001b[38;5;124m\"\u001b[39m\u001b[38;5;124mSomething went wrong!!\u001b[39m\u001b[38;5;124m\"\u001b[39m)\n",
      "\u001b[0;31mRuntimeError\u001b[0m: Something went wrong!!"
     ]
    }
   ],
   "source": [
    "is_int_able(\"two\")"
   ]
  },
  {
   "cell_type": "markdown",
   "id": "fa016209",
   "metadata": {},
   "source": [
    "The above is called \"Exception Chaining\" and we can see the two exceptions \"chained\" in our traceback above: reading from top-down, the first one is `ValueError`, then it says \"during the handling of the above exception, another exception occurred, and then the second one, `RuntimeError`.\n",
    "\n",
    "Sometimes exception chaining is helpful (or unavoidable), and sometimes it's distracting. \n",
    "\n",
    "To make it less distracting for our case, we can add `from err` when we raise a different exception than the one we caught:"
   ]
  },
  {
   "cell_type": "code",
   "execution_count": 107,
   "id": "69100f34",
   "metadata": {},
   "outputs": [],
   "source": [
    "# The above is the same as this:\n",
    "def is_int_able(item):\n",
    "    try:\n",
    "        int_item = int(item)\n",
    "    except (ValueError, TypeError) as err:  \n",
    "        raise RuntimeError(\"Something went wrong!!\") from err"
   ]
  },
  {
   "cell_type": "code",
   "execution_count": 108,
   "id": "797de721",
   "metadata": {},
   "outputs": [
    {
     "ename": "RuntimeError",
     "evalue": "Something went wrong!!",
     "output_type": "error",
     "traceback": [
      "\u001b[0;31m---------------------------------------------------------------------------\u001b[0m",
      "\u001b[0;31mValueError\u001b[0m                                Traceback (most recent call last)",
      "Input \u001b[0;32mIn [107]\u001b[0m, in \u001b[0;36mis_int_able\u001b[0;34m(item)\u001b[0m\n\u001b[1;32m      3\u001b[0m \u001b[38;5;28;01mtry\u001b[39;00m:\n\u001b[0;32m----> 4\u001b[0m     int_item \u001b[38;5;241m=\u001b[39m \u001b[38;5;28;43mint\u001b[39;49m\u001b[43m(\u001b[49m\u001b[43mitem\u001b[49m\u001b[43m)\u001b[49m\n\u001b[1;32m      5\u001b[0m \u001b[38;5;28;01mexcept\u001b[39;00m (\u001b[38;5;167;01mValueError\u001b[39;00m, \u001b[38;5;167;01mTypeError\u001b[39;00m) \u001b[38;5;28;01mas\u001b[39;00m err:  \n",
      "\u001b[0;31mValueError\u001b[0m: invalid literal for int() with base 10: 'two'",
      "\nThe above exception was the direct cause of the following exception:\n",
      "\u001b[0;31mRuntimeError\u001b[0m                              Traceback (most recent call last)",
      "Input \u001b[0;32mIn [108]\u001b[0m, in \u001b[0;36m<module>\u001b[0;34m\u001b[0m\n\u001b[0;32m----> 1\u001b[0m \u001b[43mis_int_able\u001b[49m\u001b[43m(\u001b[49m\u001b[38;5;124;43m\"\u001b[39;49m\u001b[38;5;124;43mtwo\u001b[39;49m\u001b[38;5;124;43m\"\u001b[39;49m\u001b[43m)\u001b[49m\n",
      "Input \u001b[0;32mIn [107]\u001b[0m, in \u001b[0;36mis_int_able\u001b[0;34m(item)\u001b[0m\n\u001b[1;32m      4\u001b[0m     int_item \u001b[38;5;241m=\u001b[39m \u001b[38;5;28mint\u001b[39m(item)\n\u001b[1;32m      5\u001b[0m \u001b[38;5;28;01mexcept\u001b[39;00m (\u001b[38;5;167;01mValueError\u001b[39;00m, \u001b[38;5;167;01mTypeError\u001b[39;00m) \u001b[38;5;28;01mas\u001b[39;00m err:  \n\u001b[0;32m----> 6\u001b[0m     \u001b[38;5;28;01mraise\u001b[39;00m \u001b[38;5;167;01mRuntimeError\u001b[39;00m(\u001b[38;5;124m\"\u001b[39m\u001b[38;5;124mSomething went wrong!!\u001b[39m\u001b[38;5;124m\"\u001b[39m) \u001b[38;5;28;01mfrom\u001b[39;00m \u001b[38;5;21;01merr\u001b[39;00m\n",
      "\u001b[0;31mRuntimeError\u001b[0m: Something went wrong!!"
     ]
    }
   ],
   "source": [
    "is_int_able(\"two\")"
   ]
  },
  {
   "cell_type": "markdown",
   "id": "f301be7e",
   "metadata": {},
   "source": [
    "Above, we now see \"The above exception was the direct cause of the following exception\", which may be a bit more helpful. "
   ]
  },
  {
   "cell_type": "markdown",
   "id": "5a610683",
   "metadata": {},
   "source": [
    "If we wanted to \"silence\" the exception we catch, so we only see the second one, we use `from None` instead of `from err`, so it \"forgets\" rather than keeps the context."
   ]
  },
  {
   "cell_type": "code",
   "execution_count": 109,
   "id": "fb2a0d54",
   "metadata": {},
   "outputs": [],
   "source": [
    "def is_int_able(item):\n",
    "    try:\n",
    "        int_item = int(item)\n",
    "    except (ValueError, TypeError) as err:  \n",
    "        raise RuntimeError(\"Something went wrong!!\") from None"
   ]
  },
  {
   "cell_type": "code",
   "execution_count": 110,
   "id": "6bd82a47",
   "metadata": {},
   "outputs": [
    {
     "ename": "RuntimeError",
     "evalue": "Something went wrong!!",
     "output_type": "error",
     "traceback": [
      "\u001b[0;31m---------------------------------------------------------------------------\u001b[0m",
      "\u001b[0;31mRuntimeError\u001b[0m                              Traceback (most recent call last)",
      "Input \u001b[0;32mIn [110]\u001b[0m, in \u001b[0;36m<module>\u001b[0;34m\u001b[0m\n\u001b[0;32m----> 1\u001b[0m \u001b[43mis_int_able\u001b[49m\u001b[43m(\u001b[49m\u001b[38;5;124;43m\"\u001b[39;49m\u001b[38;5;124;43mtwo\u001b[39;49m\u001b[38;5;124;43m\"\u001b[39;49m\u001b[43m)\u001b[49m\n",
      "Input \u001b[0;32mIn [109]\u001b[0m, in \u001b[0;36mis_int_able\u001b[0;34m(item)\u001b[0m\n\u001b[1;32m      3\u001b[0m     int_item \u001b[38;5;241m=\u001b[39m \u001b[38;5;28mint\u001b[39m(item)\n\u001b[1;32m      4\u001b[0m \u001b[38;5;28;01mexcept\u001b[39;00m (\u001b[38;5;167;01mValueError\u001b[39;00m, \u001b[38;5;167;01mTypeError\u001b[39;00m) \u001b[38;5;28;01mas\u001b[39;00m err:  \n\u001b[0;32m----> 5\u001b[0m     \u001b[38;5;28;01mraise\u001b[39;00m \u001b[38;5;167;01mRuntimeError\u001b[39;00m(\u001b[38;5;124m\"\u001b[39m\u001b[38;5;124mSomething went wrong!!\u001b[39m\u001b[38;5;124m\"\u001b[39m) \u001b[38;5;28;01mfrom\u001b[39;00m \u001b[38;5;28mNone\u001b[39m\n",
      "\u001b[0;31mRuntimeError\u001b[0m: Something went wrong!!"
     ]
    }
   ],
   "source": [
    "is_int_able(\"two\")"
   ]
  },
  {
   "cell_type": "markdown",
   "id": "7c9d5eff",
   "metadata": {},
   "source": [
    "### * Exercises\n",
    "\n",
    "Three separate exercises (write your solution in different cells):\n",
    "\n",
    "1. Write a bit of code that causes a `NameError`. You can't just do `raise NameError()`. Wrap the line causing the `NameError` in a `try`/`except` block to catch the error. Then print `\"saved!\"` under the condition that the `NameError` is caught.\n",
    "2. Raise a `ValueError` with a custom message.\n",
    "3. Re-raise a `ValueError` with a custom message."
   ]
  },
  {
   "cell_type": "code",
   "execution_count": 111,
   "id": "c7dc020f",
   "metadata": {},
   "outputs": [
    {
     "name": "stdout",
     "output_type": "stream",
     "text": [
      "saved!\n"
     ]
    }
   ],
   "source": [
    "# Exercise 1\n",
    "try:\n",
    "    cat  # raises NameError\n",
    "except NameError:\n",
    "    print(\"saved!\")"
   ]
  },
  {
   "cell_type": "code",
   "execution_count": 112,
   "id": "0283f2bd",
   "metadata": {},
   "outputs": [
    {
     "ename": "ValueError",
     "evalue": "Whoops!",
     "output_type": "error",
     "traceback": [
      "\u001b[0;31m---------------------------------------------------------------------------\u001b[0m",
      "\u001b[0;31mValueError\u001b[0m                                Traceback (most recent call last)",
      "Input \u001b[0;32mIn [112]\u001b[0m, in \u001b[0;36m<module>\u001b[0;34m\u001b[0m\n\u001b[1;32m      1\u001b[0m \u001b[38;5;66;03m# Exercise 2\u001b[39;00m\n\u001b[0;32m----> 2\u001b[0m \u001b[38;5;28;01mraise\u001b[39;00m \u001b[38;5;167;01mValueError\u001b[39;00m(\u001b[38;5;124m\"\u001b[39m\u001b[38;5;124mWhoops!\u001b[39m\u001b[38;5;124m\"\u001b[39m)\n",
      "\u001b[0;31mValueError\u001b[0m: Whoops!"
     ]
    }
   ],
   "source": [
    "# Exercise 2\n",
    "raise ValueError(\"Whoops!\")"
   ]
  },
  {
   "cell_type": "code",
   "execution_count": 113,
   "id": "580ffaa7",
   "metadata": {},
   "outputs": [
    {
     "name": "stdout",
     "output_type": "stream",
     "text": [
      "Caught!\n"
     ]
    },
    {
     "ename": "ValueError",
     "evalue": "Whoops!",
     "output_type": "error",
     "traceback": [
      "\u001b[0;31m---------------------------------------------------------------------------\u001b[0m",
      "\u001b[0;31mValueError\u001b[0m                                Traceback (most recent call last)",
      "Input \u001b[0;32mIn [113]\u001b[0m, in \u001b[0;36m<module>\u001b[0;34m\u001b[0m\n\u001b[1;32m      3\u001b[0m     \u001b[38;5;28;01mraise\u001b[39;00m \u001b[38;5;167;01mValueError\u001b[39;00m(\u001b[38;5;124m\"\u001b[39m\u001b[38;5;124mWhoops!\u001b[39m\u001b[38;5;124m\"\u001b[39m)\n\u001b[1;32m      5\u001b[0m \u001b[38;5;28;01mtry\u001b[39;00m:\n\u001b[0;32m----> 6\u001b[0m     \u001b[43mraise_value_error\u001b[49m\u001b[43m(\u001b[49m\u001b[43m)\u001b[49m\n\u001b[1;32m      7\u001b[0m \u001b[38;5;28;01mexcept\u001b[39;00m \u001b[38;5;167;01mValueError\u001b[39;00m:\n\u001b[1;32m      8\u001b[0m     \u001b[38;5;28mprint\u001b[39m(\u001b[38;5;124m\"\u001b[39m\u001b[38;5;124mCaught!\u001b[39m\u001b[38;5;124m\"\u001b[39m)\n",
      "Input \u001b[0;32mIn [113]\u001b[0m, in \u001b[0;36mraise_value_error\u001b[0;34m()\u001b[0m\n\u001b[1;32m      2\u001b[0m \u001b[38;5;28;01mdef\u001b[39;00m \u001b[38;5;21mraise_value_error\u001b[39m():\n\u001b[0;32m----> 3\u001b[0m     \u001b[38;5;28;01mraise\u001b[39;00m \u001b[38;5;167;01mValueError\u001b[39;00m(\u001b[38;5;124m\"\u001b[39m\u001b[38;5;124mWhoops!\u001b[39m\u001b[38;5;124m\"\u001b[39m)\n",
      "\u001b[0;31mValueError\u001b[0m: Whoops!"
     ]
    }
   ],
   "source": [
    "# Exercise 3\n",
    "def raise_value_error():\n",
    "    raise ValueError(\"Whoops!\")\n",
    "    \n",
    "try:\n",
    "    raise_value_error()\n",
    "except ValueError:\n",
    "    print(\"Caught!\")\n",
    "    raise"
   ]
  },
  {
   "cell_type": "markdown",
   "id": "0730bae5",
   "metadata": {},
   "source": [
    "### An Aside\n",
    "New programmers to Python often make a number of common mistakes when handling exceptions:\n",
    "\n",
    "* they do so too often, meaning they catch exceptions when they should instead indeed let things fail -- if all you're going to do is to catch and print something, think twice about doing so, since you'll hide the traceback information\n",
    "\n",
    "* they handle them too \"broadly\" -- meaning if only a specific section of the program will raise an exception, catch the exception only around the specific line where the error will occur, unless you indeed intend to handle that exception in multiple places\n",
    "\n",
    "It will take a while to find a good middle-ground with too often and too broadly."
   ]
  },
  {
   "cell_type": "markdown",
   "id": "25c3b280",
   "metadata": {},
   "source": [
    "### Take-away\n",
    "An exception communicates some \"out of band\" information -- meaning information beyond the \"main\" functionality of a particular function or object which is meant to signal something has occurred which interrupts the normal execution of the function and which should be handled.\n",
    "\n",
    "We can raise our own exceptions with the `raise` statement anywhere within a program, and handle exceptions we may expect could occur with the `try` and `except` statements.\n",
    "\n",
    "We haven't learned how to _define_ our own exceptions, which is important, but we'll do so when covering object oriented programming because defining exceptions is done using the class statement, which we'll cover then.\n",
    "\n",
    "Otherwise, exceptions which are not handled \"bubble up\" until ultimately they may terminate the program."
   ]
  },
  {
   "cell_type": "markdown",
   "id": "e64d7801",
   "metadata": {},
   "source": [
    "## 3.6 Assertions\n",
    "\n",
    "Assertions in Python is a special kind of exception. We can use the `assert` statement to evaluate \"truthiness\". If an `assert` statement evaluates to `False`, Python will raise an `AssertionError`, preventing further logic from happening.\n",
    "\n",
    "These can be used as simple checks to ensure confidence before continuing on in a program. Or can be used as tests to ensure your code is correct (like the tests found in the homework solutions)."
   ]
  },
  {
   "cell_type": "code",
   "execution_count": 114,
   "id": "a9891de6",
   "metadata": {},
   "outputs": [
    {
     "ename": "AssertionError",
     "evalue": "",
     "output_type": "error",
     "traceback": [
      "\u001b[0;31m---------------------------------------------------------------------------\u001b[0m",
      "\u001b[0;31mAssertionError\u001b[0m                            Traceback (most recent call last)",
      "Input \u001b[0;32mIn [114]\u001b[0m, in \u001b[0;36m<module>\u001b[0;34m\u001b[0m\n\u001b[0;32m----> 1\u001b[0m \u001b[38;5;28;01massert\u001b[39;00m \u001b[38;5;28;01mFalse\u001b[39;00m\n",
      "\u001b[0;31mAssertionError\u001b[0m: "
     ]
    }
   ],
   "source": [
    "assert False"
   ]
  },
  {
   "cell_type": "code",
   "execution_count": 115,
   "id": "ffd91025",
   "metadata": {},
   "outputs": [],
   "source": [
    "def is_ten(x):\n",
    "    assert x == 10        "
   ]
  },
  {
   "cell_type": "code",
   "execution_count": 116,
   "id": "eca4dbf4",
   "metadata": {},
   "outputs": [
    {
     "ename": "AssertionError",
     "evalue": "",
     "output_type": "error",
     "traceback": [
      "\u001b[0;31m---------------------------------------------------------------------------\u001b[0m",
      "\u001b[0;31mAssertionError\u001b[0m                            Traceback (most recent call last)",
      "Input \u001b[0;32mIn [116]\u001b[0m, in \u001b[0;36m<module>\u001b[0;34m\u001b[0m\n\u001b[0;32m----> 1\u001b[0m \u001b[43mis_ten\u001b[49m\u001b[43m(\u001b[49m\u001b[38;5;241;43m11\u001b[39;49m\u001b[43m)\u001b[49m\n",
      "Input \u001b[0;32mIn [115]\u001b[0m, in \u001b[0;36mis_ten\u001b[0;34m(x)\u001b[0m\n\u001b[1;32m      1\u001b[0m \u001b[38;5;28;01mdef\u001b[39;00m \u001b[38;5;21mis_ten\u001b[39m(x):\n\u001b[0;32m----> 2\u001b[0m     \u001b[38;5;28;01massert\u001b[39;00m x \u001b[38;5;241m==\u001b[39m \u001b[38;5;241m10\u001b[39m\n",
      "\u001b[0;31mAssertionError\u001b[0m: "
     ]
    }
   ],
   "source": [
    "is_ten(11)"
   ]
  },
  {
   "cell_type": "code",
   "execution_count": 117,
   "id": "b72a0feb",
   "metadata": {},
   "outputs": [],
   "source": [
    "# Can include a string as an error message\n",
    "def is_ten(x):\n",
    "    assert x == 10, \"x is not 10!\""
   ]
  },
  {
   "cell_type": "code",
   "execution_count": 118,
   "id": "3c6c9c81",
   "metadata": {},
   "outputs": [
    {
     "ename": "AssertionError",
     "evalue": "x is not 10!",
     "output_type": "error",
     "traceback": [
      "\u001b[0;31m---------------------------------------------------------------------------\u001b[0m",
      "\u001b[0;31mAssertionError\u001b[0m                            Traceback (most recent call last)",
      "Input \u001b[0;32mIn [118]\u001b[0m, in \u001b[0;36m<module>\u001b[0;34m\u001b[0m\n\u001b[0;32m----> 1\u001b[0m \u001b[43mis_ten\u001b[49m\u001b[43m(\u001b[49m\u001b[38;5;241;43m11\u001b[39;49m\u001b[43m)\u001b[49m\n",
      "Input \u001b[0;32mIn [117]\u001b[0m, in \u001b[0;36mis_ten\u001b[0;34m(x)\u001b[0m\n\u001b[1;32m      2\u001b[0m \u001b[38;5;28;01mdef\u001b[39;00m \u001b[38;5;21mis_ten\u001b[39m(x):\n\u001b[0;32m----> 3\u001b[0m     \u001b[38;5;28;01massert\u001b[39;00m x \u001b[38;5;241m==\u001b[39m \u001b[38;5;241m10\u001b[39m, \u001b[38;5;124m\"\u001b[39m\u001b[38;5;124mx is not 10!\u001b[39m\u001b[38;5;124m\"\u001b[39m\n",
      "\u001b[0;31mAssertionError\u001b[0m: x is not 10!"
     ]
    }
   ],
   "source": [
    "is_ten(11)"
   ]
  },
  {
   "cell_type": "code",
   "execution_count": 119,
   "id": "525c96c8",
   "metadata": {},
   "outputs": [],
   "source": [
    "def is_int_able(x):\n",
    "    try:\n",
    "        int(x)\n",
    "    except (ValueError, TypeError):\n",
    "        return False\n",
    "    else:\n",
    "        return True"
   ]
  },
  {
   "cell_type": "code",
   "execution_count": 120,
   "id": "b840cc4f",
   "metadata": {},
   "outputs": [],
   "source": [
    "assert is_int_able(\"2\")"
   ]
  },
  {
   "cell_type": "markdown",
   "id": "01675b25",
   "metadata": {},
   "source": [
    "Add a short `str` message at the end of the assert for added helpfulness!"
   ]
  },
  {
   "cell_type": "code",
   "execution_count": 122,
   "id": "446c0c57",
   "metadata": {},
   "outputs": [
    {
     "ename": "AssertionError",
     "evalue": "not int-able!",
     "output_type": "error",
     "traceback": [
      "\u001b[0;31m---------------------------------------------------------------------------\u001b[0m",
      "\u001b[0;31mAssertionError\u001b[0m                            Traceback (most recent call last)",
      "Input \u001b[0;32mIn [122]\u001b[0m, in \u001b[0;36m<module>\u001b[0;34m\u001b[0m\n\u001b[0;32m----> 1\u001b[0m \u001b[38;5;28;01massert\u001b[39;00m is_int_able(\u001b[38;5;124m\"\u001b[39m\u001b[38;5;124mtwo\u001b[39m\u001b[38;5;124m\"\u001b[39m), \u001b[38;5;124m\"\u001b[39m\u001b[38;5;124mnot int-able!\u001b[39m\u001b[38;5;124m\"\u001b[39m\n",
      "\u001b[0;31mAssertionError\u001b[0m: not int-able!"
     ]
    }
   ],
   "source": [
    "assert is_int_able(\"two\"), \"not int-able!\""
   ]
  },
  {
   "cell_type": "markdown",
   "id": "45e8925a",
   "metadata": {},
   "source": [
    "## 3.7 Files and Filepaths"
   ]
  },
  {
   "cell_type": "markdown",
   "id": "f57169e9",
   "metadata": {},
   "source": [
    "### 3.7.1 Directories\n",
    "The examples below use files I downloaded from [Project Gutenberg](https://www.gutenberg.org/ebooks/11). You're free to download the same ones if you'd like (download the Plain text versions!)\n",
    "\n",
    "---\n",
    "#### CAUTION\n",
    "Be a bit careful with cells here that write to files! If you write to a path on your own computer, you'll overwrite what's in it, same as saving on top of a file in a graphical program, but no confirmation dialog will ask you confirm you really mean to do so! Be sure of what path you want to write to before doing so.\n",
    "\n",
    "---"
   ]
  },
  {
   "cell_type": "markdown",
   "id": "08cb5505",
   "metadata": {},
   "source": [
    "You can find a directory to work with by running one of the following 2 cells, depending on your operating system:"
   ]
  },
  {
   "cell_type": "code",
   "execution_count": null,
   "id": "70a859f1",
   "metadata": {},
   "outputs": [],
   "source": [
    "# On a mac or linux machine:\n",
    "!pwd"
   ]
  },
  {
   "cell_type": "code",
   "execution_count": null,
   "id": "d0953fcc",
   "metadata": {},
   "outputs": [],
   "source": [
    "# On a windows machine\n",
    "!cd"
   ]
  },
  {
   "cell_type": "markdown",
   "id": "e658d489",
   "metadata": {},
   "source": [
    "_Note the `!` - this is executing a command in a Unix Shell (a.k.a. \"a shell\"), not in Python ([docs](https://jupyter-tutorial.readthedocs.io/en/stable/workspace/ipython/unix-shell/index.html)). We'll learn a little bit more about working in a shell later on in the course._"
   ]
  },
  {
   "cell_type": "code",
   "execution_count": 1,
   "id": "04bc9a97",
   "metadata": {},
   "outputs": [],
   "source": [
    "from pathlib import Path"
   ]
  },
  {
   "cell_type": "code",
   "execution_count": 2,
   "id": "d2bf09f6",
   "metadata": {},
   "outputs": [],
   "source": [
    "# This will not work on your computer - just mine!\n",
    "# Use the output from one of the commands above depending on your operating system\n",
    "documents = Path(\"/Users/lynn/Docs/\")"
   ]
  },
  {
   "cell_type": "markdown",
   "id": "5f4b8529",
   "metadata": {},
   "source": [
    "**Note:** I use a Mac laptop! For those using Windows, your paths will look something like `C:\\Users\\lynn\\Documents`."
   ]
  },
  {
   "cell_type": "markdown",
   "id": "7559aa89",
   "metadata": {},
   "source": [
    "**Note:** If you're using Windows, and are getting an error in the above cell, it may be because of the `\\`'s being interpreted as escape sequences (recall from Module 1). To get around this, prefix the string with an `r`. So the above example would be `Path(r\"C:\\Users\\lynn\\Documents\\\")`."
   ]
  },
  {
   "cell_type": "code",
   "execution_count": 3,
   "id": "3f80de65",
   "metadata": {},
   "outputs": [
    {
     "data": {
      "text/plain": [
       "True"
      ]
     },
     "execution_count": 3,
     "metadata": {},
     "output_type": "execute_result"
    }
   ],
   "source": [
    "documents.is_dir()"
   ]
  },
  {
   "cell_type": "code",
   "execution_count": 4,
   "id": "7b1719ca",
   "metadata": {},
   "outputs": [
    {
     "data": {
      "text/plain": [
       "PosixPath('/Users/lynn')"
      ]
     },
     "execution_count": 4,
     "metadata": {},
     "output_type": "execute_result"
    }
   ],
   "source": [
    "documents.parent"
   ]
  },
  {
   "cell_type": "code",
   "execution_count": 6,
   "id": "3bb52ba7",
   "metadata": {},
   "outputs": [
    {
     "data": {
      "text/plain": [
       "[PosixPath('/Users/lynn/Docs/.DS_Store'),\n",
       " PosixPath('/Users/lynn/Docs/books'),\n",
       " PosixPath('/Users/lynn/Docs/a_file.txt')]"
      ]
     },
     "execution_count": 6,
     "metadata": {},
     "output_type": "execute_result"
    }
   ],
   "source": [
    "# this includes some macOS-related system files\n",
    "list(documents.iterdir())"
   ]
  },
  {
   "cell_type": "code",
   "execution_count": 136,
   "id": "d04bc6ed",
   "metadata": {},
   "outputs": [],
   "source": [
    "# Define a new directory (does not create it)\n",
    "new_sub_dir = documents / \"subdir\""
   ]
  },
  {
   "cell_type": "code",
   "execution_count": 137,
   "id": "b4bb8e78",
   "metadata": {},
   "outputs": [],
   "source": [
    "# Create a new directory (makes a new directory)\n",
    "new_sub_dir.mkdir()"
   ]
  },
  {
   "cell_type": "code",
   "execution_count": 138,
   "id": "31523426",
   "metadata": {},
   "outputs": [
    {
     "data": {
      "text/plain": [
       "[PosixPath('/Users/lynn/Documents/Concept2'),\n",
       " PosixPath('/Users/lynn/Documents/Screenshots'),\n",
       " PosixPath('/Users/lynn/Documents/.DS_Store'),\n",
       " PosixPath('/Users/lynn/Documents/.localized'),\n",
       " PosixPath('/Users/lynn/Documents/subdir'),\n",
       " PosixPath('/Users/lynn/Documents/books'),\n",
       " PosixPath('/Users/lynn/Documents/GitHub'),\n",
       " PosixPath('/Users/lynn/Documents/Zoom')]"
      ]
     },
     "execution_count": 138,
     "metadata": {},
     "output_type": "execute_result"
    }
   ],
   "source": [
    "list(documents.iterdir())"
   ]
  },
  {
   "cell_type": "markdown",
   "id": "0b21686e",
   "metadata": {},
   "source": [
    "Earlier, I talked about asking for forgiveness rather than permission. Here's an example of asking for forgiveness:"
   ]
  },
  {
   "cell_type": "code",
   "execution_count": 139,
   "id": "5484ddcc",
   "metadata": {},
   "outputs": [
    {
     "name": "stdout",
     "output_type": "stream",
     "text": [
      "Caught exception while making a directory: [Errno 17] File exists: '/Users/lynn/Documents/subdir'\n"
     ]
    }
   ],
   "source": [
    "try:\n",
    "    new_sub_dir.mkdir()\n",
    "except Exception as e:\n",
    "    print(f\"Caught exception while making a directory: {e}\")"
   ]
  },
  {
   "cell_type": "markdown",
   "id": "8c0d62a6",
   "metadata": {},
   "source": [
    "And here is an example of \"look before you leap\""
   ]
  },
  {
   "cell_type": "code",
   "execution_count": 140,
   "id": "d142f08f",
   "metadata": {},
   "outputs": [
    {
     "name": "stdout",
     "output_type": "stream",
     "text": [
      "Directory already exists\n"
     ]
    }
   ],
   "source": [
    "if not new_sub_dir.exists():\n",
    "    new_sub_dir.mkdir()\n",
    "else:\n",
    "    print(\"Directory already exists\")"
   ]
  },
  {
   "cell_type": "markdown",
   "id": "688202c8",
   "metadata": {},
   "source": [
    "As I said before, you'll more often than not want to do the \"asking for forgiveness\" approach as it's faster, cleaner, and considered idiomatic."
   ]
  },
  {
   "cell_type": "markdown",
   "id": "8a7c745f",
   "metadata": {},
   "source": [
    "### 3.7.2 Files"
   ]
  },
  {
   "cell_type": "code",
   "execution_count": 141,
   "id": "6d1abfd9",
   "metadata": {},
   "outputs": [],
   "source": [
    "alice = documents / \"books\" / \"alice_in_wonderland.txt\""
   ]
  },
  {
   "cell_type": "code",
   "execution_count": 142,
   "id": "4d25dd54",
   "metadata": {},
   "outputs": [
    {
     "data": {
      "text/plain": [
       "PosixPath('/Users/lynn/Documents/books/alice_in_wonderland.txt')"
      ]
     },
     "execution_count": 142,
     "metadata": {},
     "output_type": "execute_result"
    }
   ],
   "source": [
    "alice"
   ]
  },
  {
   "cell_type": "code",
   "execution_count": 143,
   "id": "a518b2f7",
   "metadata": {},
   "outputs": [
    {
     "data": {
      "text/plain": [
       "True"
      ]
     },
     "execution_count": 143,
     "metadata": {},
     "output_type": "execute_result"
    }
   ],
   "source": [
    "alice.exists()"
   ]
  },
  {
   "cell_type": "code",
   "execution_count": 144,
   "id": "bcd6933e",
   "metadata": {},
   "outputs": [
    {
     "data": {
      "text/plain": [
       "True"
      ]
     },
     "execution_count": 144,
     "metadata": {},
     "output_type": "execute_result"
    }
   ],
   "source": [
    "alice.is_file()"
   ]
  },
  {
   "cell_type": "code",
   "execution_count": 145,
   "id": "a80fc637",
   "metadata": {},
   "outputs": [
    {
     "name": "stdout",
     "output_type": "stream",
     "text": [
      "The Project Gutenberg eBook of Alice’s Adventures in Wonderland, by Lewis Carroll\n",
      "\n",
      "This eBook is for the use of anyone anywhere in the United States and\n",
      "most other parts of the world at no cost and wi\n"
     ]
    }
   ],
   "source": [
    "# read the first 200 characters\n",
    "print(alice.read_text()[:200])"
   ]
  },
  {
   "cell_type": "markdown",
   "id": "e087ceac",
   "metadata": {},
   "source": [
    "### 3.7.3 Reading Files"
   ]
  },
  {
   "cell_type": "markdown",
   "id": "610c7b52",
   "metadata": {},
   "source": [
    "Simple use of `open`, `.read()`, `.close()`:"
   ]
  },
  {
   "cell_type": "code",
   "execution_count": 146,
   "id": "8c863f9f",
   "metadata": {},
   "outputs": [],
   "source": [
    "file = open(alice)"
   ]
  },
  {
   "cell_type": "markdown",
   "id": "c83e4f72",
   "metadata": {},
   "source": [
    "You can also use manual strings to construct a file path when using `open`. This can be preference. Using `Path` objects (like `alice`) provides additional methods for you to use, like checking if it exists, if it's a file or a directory, etc."
   ]
  },
  {
   "cell_type": "code",
   "execution_count": 147,
   "id": "9487971a",
   "metadata": {},
   "outputs": [],
   "source": [
    "manual_filepath = \"/Users/lynn/Docs/books/alice_in_wonderland.txt\""
   ]
  },
  {
   "cell_type": "code",
   "execution_count": 148,
   "id": "563271d4",
   "metadata": {},
   "outputs": [],
   "source": [
    "file = open(manual_filepath)"
   ]
  },
  {
   "cell_type": "code",
   "execution_count": 149,
   "id": "61ce87f9",
   "metadata": {},
   "outputs": [
    {
     "data": {
      "text/plain": [
       "<_io.TextIOWrapper name='/Users/lynn/Documents/books/alice_in_wonderland.txt' mode='r' encoding='UTF-8'>"
      ]
     },
     "execution_count": 149,
     "metadata": {},
     "output_type": "execute_result"
    }
   ],
   "source": [
    "file"
   ]
  },
  {
   "cell_type": "code",
   "execution_count": 150,
   "id": "7aa23ec7",
   "metadata": {},
   "outputs": [],
   "source": [
    "contents = file.read()"
   ]
  },
  {
   "cell_type": "code",
   "execution_count": 151,
   "id": "63088d10",
   "metadata": {},
   "outputs": [
    {
     "data": {
      "text/plain": [
       "'The Project Gutenberg eBook of Alice’s Adventures in Wonderland, by Lewis Carroll\\n\\nThis eBook is for the use of anyone anywhere in the United States and\\nmost other parts of the world at no cost and wi'"
      ]
     },
     "execution_count": 151,
     "metadata": {},
     "output_type": "execute_result"
    }
   ],
   "source": [
    "contents[:200]"
   ]
  },
  {
   "cell_type": "code",
   "execution_count": 152,
   "id": "d7eb1a76",
   "metadata": {},
   "outputs": [],
   "source": [
    "file.close()"
   ]
  },
  {
   "cell_type": "markdown",
   "id": "5693415e",
   "metadata": {},
   "source": [
    "Open a file and use `.readlines()` instead of `.read()`"
   ]
  },
  {
   "cell_type": "code",
   "execution_count": 153,
   "id": "aedd625a",
   "metadata": {},
   "outputs": [],
   "source": [
    "file = open(manual_filepath)\n",
    "content_lines = file.readlines()"
   ]
  },
  {
   "cell_type": "code",
   "execution_count": 154,
   "id": "2dd3b4e3",
   "metadata": {},
   "outputs": [
    {
     "data": {
      "text/plain": [
       "3760"
      ]
     },
     "execution_count": 154,
     "metadata": {},
     "output_type": "execute_result"
    }
   ],
   "source": [
    "len(content_lines)"
   ]
  },
  {
   "cell_type": "code",
   "execution_count": 155,
   "id": "96aa841c",
   "metadata": {},
   "outputs": [
    {
     "data": {
      "text/plain": [
       "'The Project Gutenberg eBook of Alice’s Adventures in Wonderland, by Lewis Carroll\\n'"
      ]
     },
     "execution_count": 155,
     "metadata": {},
     "output_type": "execute_result"
    }
   ],
   "source": [
    "content_lines[0]"
   ]
  },
  {
   "cell_type": "markdown",
   "id": "278535d8",
   "metadata": {},
   "source": [
    "Let's try to read this file again..."
   ]
  },
  {
   "cell_type": "code",
   "execution_count": 156,
   "id": "6c44eeda",
   "metadata": {},
   "outputs": [],
   "source": [
    "content_lines2 = file.readlines()"
   ]
  },
  {
   "cell_type": "code",
   "execution_count": 157,
   "id": "ff70bbb3",
   "metadata": {},
   "outputs": [
    {
     "data": {
      "text/plain": [
       "[]"
      ]
     },
     "execution_count": 157,
     "metadata": {},
     "output_type": "execute_result"
    }
   ],
   "source": [
    "content_lines2"
   ]
  },
  {
   "cell_type": "markdown",
   "id": "f34b0fac",
   "metadata": {},
   "source": [
    "Why is it now an empty list?\n",
    "\n",
    "When we call `.read` or `.readline` on a file-like object, we read to the end of the file, meaning there's no more file to read. \n",
    "\n",
    "We can \"seek\" back to the beginning, and re-read if we wish:"
   ]
  },
  {
   "cell_type": "code",
   "execution_count": 158,
   "id": "e6ce3fba",
   "metadata": {},
   "outputs": [
    {
     "data": {
      "text/plain": [
       "'The Project Gutenberg eBook of Alice’s Adventures in Wonderland, by Lewis Carroll\\n'"
      ]
     },
     "execution_count": 158,
     "metadata": {},
     "output_type": "execute_result"
    }
   ],
   "source": [
    "file.seek(0)\n",
    "content_lines2 = file.readlines()\n",
    "content_lines2[0]"
   ]
  },
  {
   "cell_type": "code",
   "execution_count": 159,
   "id": "e826e34c",
   "metadata": {},
   "outputs": [],
   "source": [
    "file.close()"
   ]
  },
  {
   "cell_type": "markdown",
   "id": "be40f8e4",
   "metadata": {},
   "source": [
    "Let's try to read the file again once more..."
   ]
  },
  {
   "cell_type": "code",
   "execution_count": 160,
   "id": "ae773cf0",
   "metadata": {},
   "outputs": [
    {
     "ename": "ValueError",
     "evalue": "I/O operation on closed file.",
     "output_type": "error",
     "traceback": [
      "\u001b[0;31m---------------------------------------------------------------------------\u001b[0m",
      "\u001b[0;31mValueError\u001b[0m                                Traceback (most recent call last)",
      "Input \u001b[0;32mIn [160]\u001b[0m, in \u001b[0;36m<module>\u001b[0;34m\u001b[0m\n\u001b[0;32m----> 1\u001b[0m \u001b[43mfile\u001b[49m\u001b[38;5;241;43m.\u001b[39;49m\u001b[43mreadlines\u001b[49m\u001b[43m(\u001b[49m\u001b[43m)\u001b[49m\n",
      "\u001b[0;31mValueError\u001b[0m: I/O operation on closed file."
     ]
    }
   ],
   "source": [
    "file.readlines()"
   ]
  },
  {
   "cell_type": "code",
   "execution_count": 161,
   "id": "ff7af844",
   "metadata": {},
   "outputs": [
    {
     "data": {
      "text/plain": [
       "True"
      ]
     },
     "execution_count": 161,
     "metadata": {},
     "output_type": "execute_result"
    }
   ],
   "source": [
    "file.closed  # check if a file is already closed"
   ]
  },
  {
   "cell_type": "markdown",
   "id": "4c749f38",
   "metadata": {
    "tags": []
   },
   "source": [
    "#### An Aside\n",
    "\n",
    "When handling files, be sure to close files! To not close files that you've opened is a **bad idea**.\n",
    "\n",
    "Too many open files can use up memory on your laptop, slowing it down.\n",
    "\n",
    "When writing to a file, changes made won't take effect until after the file is closed.\n",
    "\n",
    "Some operating systems - like Windows - treat open files as locked, so other programs (like other notebooks) can't read the file."
   ]
  },
  {
   "cell_type": "markdown",
   "id": "893347e0",
   "metadata": {},
   "source": [
    "#### Recall: `try`, `except`, `finally`"
   ]
  },
  {
   "cell_type": "code",
   "execution_count": 162,
   "id": "25ac19b6",
   "metadata": {},
   "outputs": [],
   "source": [
    "def read_file(filename):\n",
    "    try:\n",
    "        file = open(filename)\n",
    "        data = file.read()\n",
    "        # try to cast first character to an int\n",
    "        print(int(data[0]))\n",
    "    except ValueError as err:\n",
    "        print(f\"Caught an error! {err}\")\n",
    "    finally:\n",
    "        print(\"Cleaning up...\")\n",
    "        file.close()\n",
    "        print(f\"Is file closed? {file.closed}\")"
   ]
  },
  {
   "cell_type": "code",
   "execution_count": 163,
   "id": "1174966c",
   "metadata": {},
   "outputs": [
    {
     "name": "stdout",
     "output_type": "stream",
     "text": [
      "Caught an error! invalid literal for int() with base 10: 'T'\n",
      "Cleaning up...\n",
      "Is file closed? True\n"
     ]
    }
   ],
   "source": [
    "read_file(manual_filepath)"
   ]
  },
  {
   "cell_type": "markdown",
   "id": "ae1399ff",
   "metadata": {},
   "source": [
    "#### * Corollary: Context Managers\n",
    "\n",
    "There's this concept called \"context managers\" that will handle the closing of files for us. Context managers use the `with` keyword, and often use the `as` keyword. It's much shorter than `try`-`finally` blocks, specifically with file handling."
   ]
  },
  {
   "cell_type": "code",
   "execution_count": 164,
   "id": "d1f543c3",
   "metadata": {},
   "outputs": [],
   "source": [
    "with open(manual_filepath) as file:\n",
    "    data = file.read()"
   ]
  },
  {
   "cell_type": "code",
   "execution_count": 165,
   "id": "1db4a2e2",
   "metadata": {},
   "outputs": [
    {
     "data": {
      "text/plain": [
       "True"
      ]
     },
     "execution_count": 165,
     "metadata": {},
     "output_type": "execute_result"
    }
   ],
   "source": [
    "file.closed"
   ]
  },
  {
   "cell_type": "code",
   "execution_count": 166,
   "id": "99296425",
   "metadata": {},
   "outputs": [
    {
     "data": {
      "text/plain": [
       "'The Project Gutenberg eBook of Alice’s Adventures in Wonderland, by Lewis Carroll\\n\\nThis eBook is for'"
      ]
     },
     "execution_count": 166,
     "metadata": {},
     "output_type": "execute_result"
    }
   ],
   "source": [
    "data[:100]"
   ]
  },
  {
   "cell_type": "markdown",
   "id": "2096e859",
   "metadata": {},
   "source": [
    "### 3.7.4 Writing Files\n",
    "\n",
    "Let's now write our own files. We'll use the same `open` function for writing.\n",
    "\n",
    "The `open` function takes a second argument - a single character that represents the \"mode\". This specifies in what mode to open the file - most common ones being `\"r\"` for \"read\"; `\"w\"` for \"write\"; and `\"a\"`, means \"append\" (basically write to an existing file but append to the end, not over-write existing content). `\"r\"` / \"read\" is the default, so we didn't need to use it when we were reading files earlier. But we'll need to use `\"w\"` for writint:"
   ]
  },
  {
   "cell_type": "code",
   "execution_count": 171,
   "id": "ad5213fb",
   "metadata": {},
   "outputs": [],
   "source": [
    "new_file = documents / \"subdir\" / \"new_file.txt\""
   ]
  },
  {
   "cell_type": "code",
   "execution_count": 172,
   "id": "6a3309b0",
   "metadata": {},
   "outputs": [],
   "source": [
    "# This will create a file if it doesn't exist\n",
    "with open(new_file, \"w\") as new:\n",
    "    line = \"Hello, world!\"\n",
    "    new.write(line)\n",
    "    \n",
    "# in lecture, be sure to show actual file"
   ]
  },
  {
   "cell_type": "code",
   "execution_count": 173,
   "id": "06931bd9",
   "metadata": {},
   "outputs": [
    {
     "data": {
      "text/plain": [
       "'Hello, world!'"
      ]
     },
     "execution_count": 173,
     "metadata": {},
     "output_type": "execute_result"
    }
   ],
   "source": [
    "new_file.read_text()"
   ]
  },
  {
   "cell_type": "code",
   "execution_count": 174,
   "id": "19890373",
   "metadata": {},
   "outputs": [],
   "source": [
    "# append and don't overwrite existing content\n",
    "with open(new_file, \"a\") as new:\n",
    "    line = \"Hello, world, again!\"\n",
    "    new.write(line)"
   ]
  },
  {
   "cell_type": "code",
   "execution_count": 175,
   "id": "37e746e7",
   "metadata": {},
   "outputs": [
    {
     "data": {
      "text/plain": [
       "'Hello, world!Hello, world, again!'"
      ]
     },
     "execution_count": 175,
     "metadata": {},
     "output_type": "execute_result"
    }
   ],
   "source": [
    "new_file.read_text()"
   ]
  },
  {
   "cell_type": "code",
   "execution_count": 176,
   "id": "526ed016",
   "metadata": {},
   "outputs": [],
   "source": [
    "# will overwrite existing content\n",
    "with open(new_file, \"w\") as new:\n",
    "    line = \"Goodbye, world!\"\n",
    "    new.write(line)"
   ]
  },
  {
   "cell_type": "code",
   "execution_count": 177,
   "id": "8cbe2784",
   "metadata": {},
   "outputs": [
    {
     "data": {
      "text/plain": [
       "'Goodbye, world!'"
      ]
     },
     "execution_count": 177,
     "metadata": {},
     "output_type": "execute_result"
    }
   ],
   "source": [
    "# now the previous lines are gone\n",
    "new_file.read_text()"
   ]
  },
  {
   "cell_type": "markdown",
   "id": "23fc6552",
   "metadata": {},
   "source": [
    "## * 3.8 Recursion\n",
    "\n",
    "Switching gears:\n",
    "\n",
    "We've written a few functions that call other functions. But it's also possible to have a function call itself. This is called recursion. (Google [\"recursion\"](https://www.google.com/search?q=recursion) for a joke ;) ).\n",
    "\n",
    "Most problems can be solved without recursion just fine. However, some can be eligantly solved with recursive functions."
   ]
  },
  {
   "cell_type": "code",
   "execution_count": 21,
   "id": "398040d1",
   "metadata": {},
   "outputs": [],
   "source": [
    "# A very simple example\n",
    "\n",
    "def dive(x):\n",
    "    if x > 0:\n",
    "        print(f\"x is {x} - Diving deeper\")\n",
    "        dive(x - 1)  # call dive again with x decreased by 1\n",
    "        print(f\"x was {x} - Coming back up\")\n",
    "    else:\n",
    "        print(f\"x is {x} – Turning around\")  # base case\n"
   ]
  },
  {
   "cell_type": "code",
   "execution_count": 22,
   "id": "2b57b3a5",
   "metadata": {},
   "outputs": [
    {
     "name": "stdout",
     "output_type": "stream",
     "text": [
      "x is 2 - Diving deeper\n",
      "x is 1 - Diving deeper\n",
      "x is 0 – Turning around\n",
      "x was 1 - Coming back up\n",
      "x was 2 - Coming back up\n"
     ]
    }
   ],
   "source": [
    "dive(2)"
   ]
  },
  {
   "cell_type": "markdown",
   "id": "59117a4d",
   "metadata": {},
   "source": [
    "A visual representation of what's going on:\n",
    "```\n",
    "1. dive(x=2)\n",
    "      |\n",
    "      | /diving deeper/\n",
    "      |-\n",
    "      ∨\n",
    "2.    dive(x=1)\n",
    "         |\n",
    "         | /diving deeper/\n",
    "         |\n",
    "         ∨\n",
    "3.      dive(x=0)\n",
    "            |\n",
    "            | /turning around/\n",
    "            |\n",
    "          —— \n",
    "         |\n",
    "         ∨\n",
    "2.    dive(x=1)\n",
    "         |\n",
    "         | /coming back up/\n",
    "         |\n",
    "         ∨\n",
    "1. dive(x=2)\n",
    "      |\n",
    "      | /coming back up/\n",
    "      |\n",
    "      ■\n",
    "```"
   ]
  },
  {
   "cell_type": "code",
   "execution_count": 180,
   "id": "566b7b83",
   "metadata": {},
   "outputs": [],
   "source": [
    "# Another example\n",
    "\n",
    "def find_invalid_divisor(y):\n",
    "    try:\n",
    "        1 / y\n",
    "        print(f\"y is: {y}\")\n",
    "        return find_invalid_divisor(y - 1)\n",
    "    except ZeroDivisionError:\n",
    "        return y"
   ]
  },
  {
   "cell_type": "code",
   "execution_count": 181,
   "id": "7c835300",
   "metadata": {},
   "outputs": [
    {
     "name": "stdout",
     "output_type": "stream",
     "text": [
      "y is: 3\n",
      "y is: 2\n",
      "y is: 1\n"
     ]
    },
    {
     "data": {
      "text/plain": [
       "0"
      ]
     },
     "execution_count": 181,
     "metadata": {},
     "output_type": "execute_result"
    }
   ],
   "source": [
    "find_invalid_divisor(3)"
   ]
  },
  {
   "cell_type": "markdown",
   "id": "2d5d553d",
   "metadata": {},
   "source": [
    "#### * Exercise\n",
    "\n",
    "Create a function flatten that takes a list of lists and flattens the structure into a single list.\n",
    "\n",
    "```python\n",
    "def flatten(a_list):\n",
    "    # implement me\n",
    "    pass\n",
    "\n",
    "# input\n",
    "a_list = [1, [[2, 4], 5], [8, 9, [4, [4]]]]\n",
    "# expected return\n",
    "[1, 2, 4, 5, 8, 9, 4, 4]\n",
    "```\n",
    "\n",
    "Clue: you may want to use the built-in function [`isinstance`](https://docs.python.org/3/library/functions.html#isinstance). For example: \n",
    "\n",
    "```python\n",
    "if isinstance(item, list):\n",
    "    print(\"item is a list!\")\n",
    "```"
   ]
  },
  {
   "cell_type": "code",
   "execution_count": 182,
   "id": "e124426a",
   "metadata": {},
   "outputs": [],
   "source": [
    "def flatten(a_list):\n",
    "    # implement me\n",
    "    pass\n",
    "\n",
    "a_list = [1, [[2, 4], 5], [8, 9, [4, [4]]]]\n",
    "\n",
    "expected = [1, 2, 4, 5, 8, 9, 4, 4]\n",
    "\n",
    "assert expected == flatten(a_list)"
   ]
  },
  {
   "cell_type": "code",
   "execution_count": 183,
   "id": "ab1b448f",
   "metadata": {},
   "outputs": [],
   "source": [
    "def flatten(a_list):\n",
    "    new_list = []\n",
    "    for item in a_list:\n",
    "        # Look at each item in iterable. \n",
    "        if isinstance(item, list):  \n",
    "            # If the item is a list, then flatten that list\n",
    "            print(\"passed IN\", item)\n",
    "            flattened_inner_list = flatten(item)\n",
    "            print(\"handed OUT\", flattened_inner_list)\n",
    "            new_list.extend(flattened_inner_list)\n",
    "        else:\n",
    "            # If the item is not a list, just append it to the growing flat list that will be returned.\n",
    "            new_list.append(item)  # base case\n",
    "            \n",
    "    return new_list"
   ]
  },
  {
   "cell_type": "code",
   "execution_count": 184,
   "id": "c3d92252",
   "metadata": {},
   "outputs": [],
   "source": [
    "input_list = [1, [[2, 4], 5], [8, 9, [4, [4]]]]"
   ]
  },
  {
   "cell_type": "code",
   "execution_count": 185,
   "id": "fa513094",
   "metadata": {},
   "outputs": [
    {
     "name": "stdout",
     "output_type": "stream",
     "text": [
      "passed IN [[2, 4], 5]\n",
      "passed IN [2, 4]\n",
      "handed OUT [2, 4]\n",
      "handed OUT [2, 4, 5]\n",
      "passed IN [8, 9, [4, [4]]]\n",
      "passed IN [4, [4]]\n",
      "passed IN [4]\n",
      "handed OUT [4]\n",
      "handed OUT [4, 4]\n",
      "handed OUT [8, 9, 4, 4]\n"
     ]
    },
    {
     "data": {
      "text/plain": [
       "[1, 2, 4, 5, 8, 9, 4, 4]"
      ]
     },
     "execution_count": 185,
     "metadata": {},
     "output_type": "execute_result"
    }
   ],
   "source": [
    "flatten(input_list)"
   ]
  },
  {
   "cell_type": "code",
   "execution_count": 186,
   "id": "1304c469",
   "metadata": {},
   "outputs": [],
   "source": [
    "# without the print calls:\n",
    "def flatten(a_list):\n",
    "    new_list = []\n",
    "    for item in a_list:\n",
    "        if isinstance(item, list):\n",
    "            new_list.extend(flatten(item))\n",
    "        else:\n",
    "            new_list.append(item)\n",
    "\n",
    "    return new_list"
   ]
  },
  {
   "cell_type": "code",
   "execution_count": 187,
   "id": "912a2155",
   "metadata": {},
   "outputs": [],
   "source": [
    "# Recall assertion statements!\n",
    "expected = [1, 2, 4, 5, 8, 9, 4, 4]\n",
    "actual = flatten(input_list)\n",
    "assert expected == actual"
   ]
  },
  {
   "cell_type": "code",
   "execution_count": 188,
   "id": "6ce5d8c8",
   "metadata": {
    "scrolled": true
   },
   "outputs": [
    {
     "ename": "AssertionError",
     "evalue": "Whoops - these are not equal!",
     "output_type": "error",
     "traceback": [
      "\u001b[0;31m---------------------------------------------------------------------------\u001b[0m",
      "\u001b[0;31mAssertionError\u001b[0m                            Traceback (most recent call last)",
      "Input \u001b[0;32mIn [188]\u001b[0m, in \u001b[0;36m<module>\u001b[0;34m\u001b[0m\n\u001b[1;32m      1\u001b[0m not_expected \u001b[38;5;241m=\u001b[39m [\u001b[38;5;241m1\u001b[39m, \u001b[38;5;241m2\u001b[39m]\n\u001b[1;32m      2\u001b[0m \u001b[38;5;66;03m# this should fail\u001b[39;00m\n\u001b[0;32m----> 3\u001b[0m \u001b[38;5;28;01massert\u001b[39;00m not_expected \u001b[38;5;241m==\u001b[39m actual, \u001b[38;5;124m\"\u001b[39m\u001b[38;5;124mWhoops - these are not equal!\u001b[39m\u001b[38;5;124m\"\u001b[39m\n",
      "\u001b[0;31mAssertionError\u001b[0m: Whoops - these are not equal!"
     ]
    }
   ],
   "source": [
    "not_expected = [1, 2]\n",
    "# this should fail\n",
    "assert not_expected == actual, \"Whoops - these are not equal!\""
   ]
  },
  {
   "cell_type": "markdown",
   "id": "c2d745ee",
   "metadata": {},
   "source": [
    "## 3.9 Summary\n",
    "\n",
    "As a quick summary, for Module 3, we've covered:\n",
    "\n",
    "* Built-in, global, local and enclosed scope in Python\n",
    "* Comprehensions for simple for-loops\n",
    "* Exceptions\n",
    "    * Handling exceptions with `try`, `except`, `else`, and `finally`\n",
    "    * Raising exceptions\n",
    "* Reading and writing files using `pathlib.Path`\n",
    "* Recursive functions\n",
    "\n",
    "### Additional Resources\n",
    "\n",
    "* [Python Scope & the LEGB Rule: Resolving Names in Your Code](https://realpython.com/python-scope-legb-rule/)\n",
    "* [Comprehensions](https://python-3-patterns-idioms-test.readthedocs.io/en/latest/Comprehensions.html)\n",
    "* [Python Exceptions: An Introduction](https://realpython.com/python-exceptions/)\n",
    "* A write-up from Udacity on [Exceptions in Python: An Introduction](https://www.udacity.com/blog/2021/09/exceptions-in-python-an-introduction.html)\n",
    "* [Recursion in Python: An Introduction](https://realpython.com/python-recursion/)\n",
    "* [22 Examples of Recursive Functions in Python](https://inventwithpython.com/blog/2021/10/04/22-examples-of-recursive-functions-in-python/)\n",
    "* Get comfy with Googling yourself! i.e. [on exceptions](https://www.google.com/search?q=python+introduction+to+exceptions) and [recursive functions](https://www.google.com/search?q=recursion+in+python)"
   ]
  },
  {
   "cell_type": "code",
   "execution_count": null,
   "id": "f926d632",
   "metadata": {},
   "outputs": [],
   "source": []
  }
 ],
 "metadata": {
  "kernelspec": {
   "display_name": "Python 3 (ipykernel)",
   "language": "python",
   "name": "python3"
  },
  "language_info": {
   "codemirror_mode": {
    "name": "ipython",
    "version": 3
   },
   "file_extension": ".py",
   "mimetype": "text/x-python",
   "name": "python",
   "nbconvert_exporter": "python",
   "pygments_lexer": "ipython3",
   "version": "3.11.4"
  }
 },
 "nbformat": 4,
 "nbformat_minor": 5
}
